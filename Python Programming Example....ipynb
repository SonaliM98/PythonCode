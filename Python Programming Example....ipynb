{
 "cells": [
  {
   "cell_type": "code",
   "execution_count": 14,
   "metadata": {},
   "outputs": [
    {
     "name": "stdout",
     "output_type": "stream",
     "text": [
      "Hello world!\n"
     ]
    }
   ],
   "source": [
    "# Python Program to print hello world!\n",
    "print (\"Hello world!\")"
   ]
  },
  {
   "cell_type": "code",
   "execution_count": 1,
   "metadata": {},
   "outputs": [
    {
     "name": "stdout",
     "output_type": "stream",
     "text": [
      "Enter the no1\n",
      "Enter the no2\n",
      "3\n"
     ]
    }
   ],
   "source": [
    "#Python Program to AddTwo Numbers\n",
    "x = int(input(\"Enter the no\"))\n",
    "y = int(input(\"Enter the no\"))\n",
    "z = x + y\n",
    "print(z)"
   ]
  },
  {
   "cell_type": "code",
   "execution_count": 2,
   "metadata": {},
   "outputs": [
    {
     "name": "stdout",
     "output_type": "stream",
     "text": [
      "Enter the no2\n",
      "4\n"
     ]
    }
   ],
   "source": [
    "#Python Program to find the square root\n",
    "x = int(input(\"Enter the no\")) \n",
    "z = x ** 2\n",
    "print (z)"
   ]
  },
  {
   "cell_type": "code",
   "execution_count": 5,
   "metadata": {},
   "outputs": [
    {
     "name": "stdout",
     "output_type": "stream",
     "text": [
      "Enter base of the triangle: 2\n",
      "Enter height of the triangle: 2\n",
      "2\n"
     ]
    }
   ],
   "source": [
    "# Python program to Calculate the Area of a Triangle...\n",
    "b = int(input(\"Enter base of the triangle: \"))\n",
    "h = int(input(\"Enter height of the triangle: \"))\n",
    "t = int(b*h)\n",
    "t1 = int(t/2)\n",
    "print (t1)"
   ]
  },
  {
   "cell_type": "code",
   "execution_count": null,
   "metadata": {
    "collapsed": true
   },
   "outputs": [],
   "source": [
    "#Python Program to solve the quadratic equation..."
   ]
  },
  {
   "cell_type": "code",
   "execution_count": 5,
   "metadata": {},
   "outputs": [
    {
     "name": "stdout",
     "output_type": "stream",
     "text": [
      "Enter x: 1\n",
      "Enter y: 2\n",
      "Swap is \n",
      " x = 2 and y = 1 :\n"
     ]
    }
   ],
   "source": [
    "# Python Program to swap 2 variables\n",
    "x = input(\"Enter x: \")\n",
    "y = input(\"Enter y: \")\n",
    "x,y = y,x\n",
    "print (\"Swap is \\n x = {} and y = {} :\".format(x,y))"
   ]
  },
  {
   "cell_type": "code",
   "execution_count": 15,
   "metadata": {},
   "outputs": [
    {
     "name": "stdout",
     "output_type": "stream",
     "text": [
      "30\n"
     ]
    }
   ],
   "source": [
    "#Python program to generate remdom number...\n",
    "from random import randint\n",
    "x = randint(1,100)\n",
    "print(x)"
   ]
  },
  {
   "cell_type": "code",
   "execution_count": null,
   "metadata": {
    "collapsed": true
   },
   "outputs": [],
   "source": [
    "#Python Program to kilometers to miles"
   ]
  },
  {
   "cell_type": "code",
   "execution_count": null,
   "metadata": {
    "collapsed": true
   },
   "outputs": [],
   "source": [
    "#Python Program to celsius to fahrenheit"
   ]
  },
  {
   "cell_type": "code",
   "execution_count": 1,
   "metadata": {},
   "outputs": [
    {
     "name": "stdout",
     "output_type": "stream",
     "text": [
      "A : -88\n",
      "-ve Number\n"
     ]
    }
   ],
   "source": [
    "#Python Program to check if a number is +ve , -ve, or 0 \n",
    "a = int(input(\"A : \"))\n",
    "if a > 0 :\n",
    "    print(\"+Ve Number\")\n",
    "elif a == 0 :\n",
    "    print(\"Number is 0\")\n",
    "else :\n",
    "    print(\"-ve Number\")"
   ]
  },
  {
   "cell_type": "code",
   "execution_count": 12,
   "metadata": {},
   "outputs": [
    {
     "name": "stdout",
     "output_type": "stream",
     "text": [
      "Enter any Year: 2020\n",
      "Year is Leap\n"
     ]
    }
   ],
   "source": [
    "#Python Program to check leep year \n",
    "year = int(input(\"Enter any Year: \"))\n",
    "if year%4==0:  \n",
    "    print(\"Year is Leap\")  \n",
    "else:  \n",
    "    print (\"Year is not Leap\")"
   ]
  },
  {
   "cell_type": "code",
   "execution_count": null,
   "metadata": {
    "collapsed": true
   },
   "outputs": [],
   "source": [
    "#Python Program to Find the largest Among 3 numbers...\n",
    "a = int(input(\"A : \"))\n",
    "b = int(input(\"B : \"))\n",
    "c = int(input(\"C : \"))\n",
    "if a >= b and a >= c :\n",
    "    print(\"A is Greatest\")\n",
    "elif b >= a and b >= c :\n",
    "    print(\"B is Greatest\")\n",
    "else :\n",
    "    print(\"C is Greatest\")"
   ]
  },
  {
   "cell_type": "code",
   "execution_count": null,
   "metadata": {
    "collapsed": true
   },
   "outputs": [],
   "source": [
    "#Python Program to check prime number...\n",
    "num = int(input(\"Enter a Number : \"))\n",
    "if num <= 1 :\n",
    "    print(\"Not Prime\")\n",
    "    print(\"Error!This is not valid input to check prime\")\n",
    "    exit(0)\n",
    "elif num <= 3 :\n",
    "    print(\"Prime\")\n",
    "    exit(0)\n",
    "check = 2\n",
    "import math\n",
    "sq = math.sqrt(num)\n",
    "sq = int(sq) + 1\n",
    "while check <= sq :\n",
    "    k = num % check \n",
    "    if k == 0 :\n",
    "        print(\"Not Prime\")\n",
    "        break\n",
    "    elif check == sq :\n",
    "        print(\"Prime\")\n",
    "    check = check + 1"
   ]
  },
  {
   "cell_type": "code",
   "execution_count": null,
   "metadata": {
    "collapsed": true
   },
   "outputs": [],
   "source": [
    "#Python Program to print all prime number in aninterval\n",
    "import math\n",
    "s = int(input(\"Enter starting point : \"))\n",
    "e = int(input(\"Enter Ending Point : \"))\n",
    "total_prime = 0\n",
    "while s <= e :\n",
    "    num = s\n",
    "    end = int(math.sqrt(num)) + 1\n",
    "    start = 2\n",
    "    while start <= end :\n",
    "        if num % start == 0 :\n",
    "            break\n",
    "        start = start + 1\n",
    "    else :\n",
    "        total_prime += 1\n",
    "        print(num,end='\\t')\n",
    "    s = s + 1\n",
    "print(\"\\nTotal Prime : \",total_prime)"
   ]
  },
  {
   "cell_type": "code",
   "execution_count": 8,
   "metadata": {},
   "outputs": [
    {
     "name": "stdout",
     "output_type": "stream",
     "text": [
      "Enter a number: 4\n",
      "The factorial of 4 is 24\n"
     ]
    }
   ],
   "source": [
    "#Python Program to find the Factorial of a nummber...\n",
    "num = int(input(\"Enter a number: \"))\n",
    "factorial = 1\n",
    "if num < 0:\n",
    "    print(\"Negative numbers\")\n",
    "elif num == 0:\n",
    "    print(\"The factorial of 0 is 1\")\n",
    "else:\n",
    "    for i in range(1,num + 1):\n",
    "        factorial = factorial*i\n",
    "    print(\"The factorial of {} is {}\".format(num,factorial))"
   ]
  },
  {
   "cell_type": "code",
   "execution_count": 7,
   "metadata": {},
   "outputs": [
    {
     "name": "stdout",
     "output_type": "stream",
     "text": [
      "Enter number: 2\n",
      "    2\tX    1\t=    2\n",
      "    2\tX    2\t=    4\n",
      "    2\tX    3\t=    6\n",
      "    2\tX    4\t=    8\n",
      "    2\tX    5\t=   10\n",
      "    2\tX    6\t=   12\n",
      "    2\tX    7\t=   14\n",
      "    2\tX    8\t=   16\n",
      "    2\tX    9\t=   18\n",
      "    2\tX   10\t=   20\n"
     ]
    }
   ],
   "source": [
    "#Python Program to display the multiplication table...\n",
    "m = int(input(\"Enter number: \"))\n",
    "n = 1,2,3,4,5,6,7,8,9,10\n",
    "for v in n:\n",
    "    #print(m*v)\n",
    "    print(\"{:5}\\tX{:5}\\t={:5}\".format(m,v,m*v))"
   ]
  },
  {
   "cell_type": "code",
   "execution_count": 13,
   "metadata": {},
   "outputs": [
    {
     "name": "stdout",
     "output_type": "stream",
     "text": [
      "Enter no of items : 7\n",
      "for Loop:- 0\t1\t1\t2\t3\t5\t8\t\n",
      "while Loop:- 0\t1\t1\t2\t3\t5\t8\t\n"
     ]
    }
   ],
   "source": [
    "#Python Program to print Fibonacci Sequence....\n",
    "\n",
    "        #for loop se....\n",
    "num = int(input(\"Enter no of items : \"))\n",
    "print(\"for Loop:- 0\\t1\\t\",end='')\n",
    "s = 0\n",
    "e = num - 2\n",
    "start = 0\n",
    "end = 1\n",
    "for var in range(s,e):\n",
    "    start,end = end,start+end\n",
    "    print(end,end='\\t')\n",
    "    s = s + 1\n",
    "print()\n",
    "\n",
    "\n",
    "        #while loop se....\n",
    "#num = int(input(\"Enter no of items : \"))\n",
    "print(\"while Loop:- 0\\t1\\t\",end='')\n",
    "s = 0\n",
    "e = num - 2\n",
    "start = 0\n",
    "end = 1\n",
    "while s < e :\n",
    "    start,end = end,start+end\n",
    "    print(end,end='\\t')\n",
    "    s = s + 1\n",
    "print()"
   ]
  },
  {
   "cell_type": "code",
   "execution_count": null,
   "metadata": {
    "collapsed": true
   },
   "outputs": [],
   "source": [
    "num = int(input(\"Enter a number: \")) #no input\n",
    "sum = 0 # sum \n",
    "temp = num # \n",
    "while temp > 0 : # greater then 0 \n",
    "    digit = temp % 10 # reminder\n",
    "    sum += digit ** 3 # cube...\n",
    "    temp //= 10 # quotient\n",
    "if num == sum:\n",
    "    print(num,\"is an Armstrong number\")\n",
    "else:\n",
    "    print(num,\"is not an Armstrong number\")"
   ]
  },
  {
   "cell_type": "code",
   "execution_count": null,
   "metadata": {
    "collapsed": true
   },
   "outputs": [],
   "source": [
    "#Palindrome ... Number using while and for loop \n",
    "a = int(input(\"enter a number: \")) #input\n",
    "b = a # store in b\n",
    "r = 0 # revse...\n",
    "while b != 0: \n",
    "    r = (r * 10) + (b % 10) \n",
    "    b = b // 10 #quotient\n",
    "if a == r:\n",
    "    print(\"number is palindrome\")\n",
    "else:\n",
    "    print(\"number is not palindrome\")\n",
    "    \n"
   ]
  },
  {
   "cell_type": "code",
   "execution_count": null,
   "metadata": {
    "collapsed": true
   },
   "outputs": [],
   "source": [
    "#python program to check wheather a string is Palindrome or not\n",
    "\n",
    "s = input(\"enter a Sting: \") #input\n",
    "b = len(s) \n",
    "c = s[::-1]\n",
    "print (b)\n",
    "print (c)\n",
    "if s == c:\n",
    "    print(\"String is Palindrome\")\n",
    "else :\n",
    "    print(\"String is not Palindrome\")\n",
    "    "
   ]
  },
  {
   "cell_type": "code",
   "execution_count": 4,
   "metadata": {},
   "outputs": [
    {
     "name": "stdout",
     "output_type": "stream",
     "text": [
      "dfd hgfh\n",
      "Dfd Hgfh "
     ]
    }
   ],
   "source": [
    "n = input()\n",
    "list1=n.split(' ')\n",
    "for i in list1:\n",
    "    print(i.capitalize(),end=' ')"
   ]
  },
  {
   "cell_type": "code",
   "execution_count": null,
   "metadata": {
    "collapsed": true
   },
   "outputs": [],
   "source": [
    "def is_leap(year):\n",
    "    leap = False\n",
    "    \n",
    "    # Write your logic here\n",
    "year = int(input())\n",
    "if year % 100 == 0:  \n",
    "    print(is_leap(year))  \n",
    "    \n",
    "    \n"
   ]
  },
  {
   "cell_type": "code",
   "execution_count": 1,
   "metadata": {
    "collapsed": true
   },
   "outputs": [],
   "source": [
    "def solve(s):\n",
    "    l = s.split()\n",
    "    k = []\n",
    "    for var in l:\n",
    "        if var.isalpha():\n",
    "            k.append(var.capitalize())\n",
    "        else :\n",
    "            k.append(var)\n",
    "    return' '.join(k)"
   ]
  },
  {
   "cell_type": "code",
   "execution_count": 8,
   "metadata": {},
   "outputs": [
    {
     "name": "stdout",
     "output_type": "stream",
     "text": [
      "177\n",
      "10\n",
      "17\n",
      "7\n",
      "(17,7)\n"
     ]
    }
   ],
   "source": [
    "t = ()\n",
    "a = int(input())\n",
    "b = int(input())\n",
    "print(a//b)\n",
    "print(a%b)\n",
    "\n",
    "print(\"({},{})\".format((a//b),(a%b)))"
   ]
  },
  {
   "cell_type": "code",
   "execution_count": 3,
   "metadata": {},
   "outputs": [
    {
     "name": "stdout",
     "output_type": "stream",
     "text": [
      "Rendom walk no input10\n",
      "w\n",
      "w\n",
      "w\n",
      "w\n",
      "s\n",
      "s\n",
      "s\n",
      "w\n",
      "n\n",
      "s\n",
      "Distance.... -5 , -3 and 8\n"
     ]
    }
   ],
   "source": [
    "from random import choice\n",
    "import math\n",
    "i = int(input(\"Rendom walk no input\"))\n",
    "x = y = 0 \n",
    "for v in range(i):\n",
    "    ch1 = choice(['e','w','n','s']).strip().lower()\n",
    "    print(ch1)\n",
    "    if ch1 == 'e':\n",
    "        x = x + 1\n",
    "    elif ch1 == 'w':\n",
    "        x = x - 1\n",
    "    elif ch1 == 'n':\n",
    "        y = y + 1\n",
    "    else:\n",
    "        if ch1 == 's':\n",
    "            y = y - 1\n",
    "print(\"Distance.... {} , {} and {}\".format(x,y,abs(x)+abs(y)))"
   ]
  },
  {
   "cell_type": "code",
   "execution_count": 14,
   "metadata": {},
   "outputs": [
    {
     "name": "stdout",
     "output_type": "stream",
     "text": [
      "Rendom walk no input2\n",
      "choise 1 only...E W N Se\n",
      "choise 1 only...E W N Ss\n",
      "Distance....2 and 1\n"
     ]
    }
   ],
   "source": [
    "from random import choice\n",
    "import math\n",
    "i = int(input(\"Rendom walk no input\"))\n",
    "x = 0 \n",
    "y = 0\n",
    "for v in range(i):\n",
    "    ch1 = input(\"choise 1 only...E W N S\").strip().lower()\n",
    "    if ch1 == 'e':\n",
    "        x = x + 1\n",
    "    elif ch1 == 'w':\n",
    "        x = x - 1\n",
    "    elif ch1 == 'n':\n",
    "        y = y + 1\n",
    "    else:\n",
    "        if ch1 == 's':\n",
    "            y = y - 1\n",
    "print(\"Distance....{} and {}\".format(abs(x)+abs(y),x,y))"
   ]
  },
  {
   "cell_type": "code",
   "execution_count": 7,
   "metadata": {},
   "outputs": [
    {
     "name": "stdout",
     "output_type": "stream",
     "text": [
      "abracadabra\n",
      "5 k\n",
      "abrackdabra\n"
     ]
    }
   ],
   "source": [
    "s = input()\n",
    "l = list(s)\n",
    "i,n = input().split()\n",
    "l[int(i)] = n\n",
    "s = ''.join(l)\n",
    "print (s)\n"
   ]
  },
  {
   "cell_type": "code",
   "execution_count": null,
   "metadata": {
    "collapsed": true
   },
   "outputs": [],
   "source": []
  },
  {
   "cell_type": "code",
   "execution_count": null,
   "metadata": {
    "collapsed": true
   },
   "outputs": [],
   "source": []
  }
 ],
 "metadata": {
  "kernelspec": {
   "display_name": "Python 3",
   "language": "python",
   "name": "python3"
  },
  "language_info": {
   "codemirror_mode": {
    "name": "ipython",
    "version": 3
   },
   "file_extension": ".py",
   "mimetype": "text/x-python",
   "name": "python",
   "nbconvert_exporter": "python",
   "pygments_lexer": "ipython3",
   "version": "3.6.3"
  }
 },
 "nbformat": 4,
 "nbformat_minor": 2
}
