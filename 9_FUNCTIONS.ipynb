{
 "cells": [
  {
   "cell_type": "markdown",
   "metadata": {
    "collapsed": true
   },
   "source": [
    "# Functions \n",
    "Set of statement that are given to prepare a task...\n"
   ]
  },
  {
   "cell_type": "code",
   "execution_count": 1,
   "metadata": {},
   "outputs": [
    {
     "name": "stdout",
     "output_type": "stream",
     "text": [
      "function calling starts\n",
      "Enter your name : Sachin\n",
      "Welcome Sachin to the python functions.\n",
      "function calling finished\n"
     ]
    }
   ],
   "source": [
    "def hello():\n",
    "    name = input(\"Enter your name : \")\n",
    "    print(\"Welcome {} to the python functions.\".format(name))\n",
    "print(\"function calling starts\")\n",
    "x = hello()\n",
    "print(\"function calling finished\")"
   ]
  },
  {
   "cell_type": "code",
   "execution_count": 2,
   "metadata": {},
   "outputs": [
    {
     "name": "stdout",
     "output_type": "stream",
     "text": [
      "Enter your name : sonali\n",
      "Welcome sonali to the python functions.\n"
     ]
    }
   ],
   "source": [
    "hello()"
   ]
  },
  {
   "cell_type": "code",
   "execution_count": 4,
   "metadata": {
    "collapsed": true
   },
   "outputs": [],
   "source": [
    "# calculator usinf functions...\n",
    "def calk(a,b,ch):\n",
    "    ch = ch.strip()\n",
    "    if ch == '+':\n",
    "        return a + b\n",
    "    elif ch == '-':\n",
    "        return a - b\n",
    "    elif ch == '*':\n",
    "        return a * b \n",
    "    elif ch == '/'or ch == '//' or ch == '%':\n",
    "        if b == 0 :\n",
    "            return \"!!! Error !!!\"\n",
    "        else :\n",
    "            \n",
    "            if ch == '//':\n",
    "                return a // b \n",
    "            elif ch == '/':\n",
    "                return a / b\n",
    "            elif ch == '%':\n",
    "                return a % b \n",
    "    elif ch == '**':\n",
    "        return a ** b\n",
    "    else :\n",
    "        return \"Error!!!\"\n",
    "            \n",
    "     "
   ]
  },
  {
   "cell_type": "code",
   "execution_count": 5,
   "metadata": {},
   "outputs": [
    {
     "name": "stdout",
     "output_type": "stream",
     "text": [
      "4\n"
     ]
    }
   ],
   "source": [
    "r = calk(2,2,'+')\n",
    "print(r)"
   ]
  },
  {
   "cell_type": "code",
   "execution_count": 6,
   "metadata": {},
   "outputs": [
    {
     "name": "stdout",
     "output_type": "stream",
     "text": [
      "\n",
      "\n",
      "X : 2\n",
      "Y : 2\n",
      "Operation (+,-,*,/,//,%,**) : +\n",
      "Result : 4 \n"
     ]
    }
   ],
   "source": [
    "a = int(input(\"\\n\\nX : \"))\n",
    "b = int(input(\"Y : \"))\n",
    "ch = input(\"Operation (+,-,*,/,//,%,**) : \")\n",
    "result = calk(a,b,ch)\n",
    "print(\"Result : %s \"%(result))\n"
   ]
  },
  {
   "cell_type": "code",
   "execution_count": 2,
   "metadata": {
    "collapsed": true
   },
   "outputs": [],
   "source": [
    "#Make dictionary using Function:-\n",
    "def con_Dict(p,q,r,s) :\n",
    "    l = [ p,q,r,s ] \n",
    "    d = dict(l)\n",
    "    return d"
   ]
  },
  {
   "cell_type": "code",
   "execution_count": 3,
   "metadata": {},
   "outputs": [
    {
     "name": "stdout",
     "output_type": "stream",
     "text": [
      "Give input as key=value : \n",
      "\n",
      "\n",
      "1st entry : a=b\n",
      "2nd entry : c=d\n",
      "3rd entry : e=f\n",
      "4th entry : g=h\n",
      "<class 'dict'>\n",
      "{'a': 'b', 'c': 'd', 'e': 'f', 'g': 'h'}\n"
     ]
    }
   ],
   "source": [
    "print(\"Give input as key=value : \\n\\n\")\n",
    "e1 = input(\"1st entry : \").split('=') \n",
    "e2 = input(\"2nd entry : \").split('=') \n",
    "e3 = input(\"3rd entry : \").split('=')\n",
    "e4 = input(\"4th entry : \").split('=')\n",
    "st1 = con_Dict(e1,e2,e3,e4)\n",
    "print(type(st1))\n",
    "print(st1)"
   ]
  },
  {
   "cell_type": "code",
   "execution_count": null,
   "metadata": {
    "collapsed": true
   },
   "outputs": [],
   "source": [
    "\n",
    "#String REVERSE function\n",
    "def reverse(string):\n",
    "    return string[::-1]\n",
    "s = reverse(input(\"Enter a string : \"))\n",
    "print(s)\n",
    "s = reverse(input(\"Enter a list space seprated : \").split())\n",
    "print(s)\n",
    "\n",
    "#String SWAP function\n",
    "def swap(x,y):\n",
    "    return y,x\n",
    "x,y = int(input(\"Enter x : \")),int(input(\"Enter y : \"))\n",
    "x,y = swap(x,y)\n",
    "print(x,y)\n",
    "\n",
    "#String POWER function\n",
    "def pow(x,y):\n",
    "    return x**y\n",
    "x = pow(3,4) #positional Arguments\n",
    "print(x)"
   ]
  },
  {
   "cell_type": "code",
   "execution_count": 20,
   "metadata": {},
   "outputs": [
    {
     "name": "stdout",
     "output_type": "stream",
     "text": [
      "qA1\n"
     ]
    },
    {
     "data": {
      "text/plain": [
       "' print(s.isalpha()) \\n    print(s.isalnum())\\n    print(s.isdigit())\\n    print(s.islower())\\n    print(s.isupper())\\n    return True\\ns = input()\\nstr(s)'"
      ]
     },
     "execution_count": 20,
     "metadata": {},
     "output_type": "execute_result"
    }
   ],
   "source": [
    "s = input()\n",
    "def str(string):\n",
    "    if s == s.isalpha() or s.isalnum() or s.isdigit() or s.islower() or s.isupper():\n",
    "        print(\"True\")\n",
    "        return True\n",
    "    else :\n",
    "        print(\"sorry\")\n",
    "\"\"\" print(s.isalpha()) \n",
    "    print(s.isalnum())\n",
    "    print(s.isdigit())\n",
    "    print(s.islower())\n",
    "    print(s.isupper())\n",
    "    return True\n",
    "s = input()\n",
    "str(s)\"\"\""
   ]
  },
  {
   "cell_type": "code",
   "execution_count": null,
   "metadata": {
    "collapsed": true
   },
   "outputs": [],
   "source": []
  }
 ],
 "metadata": {
  "kernelspec": {
   "display_name": "Python 3",
   "language": "python",
   "name": "python3"
  },
  "language_info": {
   "codemirror_mode": {
    "name": "ipython",
    "version": 3
   },
   "file_extension": ".py",
   "mimetype": "text/x-python",
   "name": "python",
   "nbconvert_exporter": "python",
   "pygments_lexer": "ipython3",
   "version": "3.6.3"
  }
 },
 "nbformat": 4,
 "nbformat_minor": 2
}
