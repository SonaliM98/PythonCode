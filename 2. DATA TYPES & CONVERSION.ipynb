{
 "cells": [
  {
   "cell_type": "markdown",
   "metadata": {},
   "source": [
    "# PRINT HELLO!\n",
    "(26 MAY 2018)"
   ]
  },
  {
   "cell_type": "code",
   "execution_count": 20,
   "metadata": {},
   "outputs": [
    {
     "name": "stdout",
     "output_type": "stream",
     "text": [
      "Hello!... Melody drama king\n"
     ]
    }
   ],
   "source": [
    "print(\"Hello!... Melody drama king\")"
   ]
  },
  {
   "cell_type": "code",
   "execution_count": 34,
   "metadata": {},
   "outputs": [
    {
     "name": "stdout",
     "output_type": "stream",
     "text": [
      "Hello, World!\n"
     ]
    }
   ],
   "source": [
    "# Task 1\n",
    "#Here is a sample line of code that can be executed in Python: print(\"Hello, World!\")\n",
    "print(\"Hello, World!\")"
   ]
  },
  {
   "cell_type": "code",
   "execution_count": 4,
   "metadata": {},
   "outputs": [
    {
     "name": "stdout",
     "output_type": "stream",
     "text": [
      "Enter your name here: Sonali\n",
      "Welcome Sonali This is python world!\n"
     ]
    }
   ],
   "source": [
    "name = input (\"Enter your name here: \") #User enter their name\n",
    "print(\"Welcome\", name, \"This is python world!\")"
   ]
  },
  {
   "cell_type": "code",
   "execution_count": 33,
   "metadata": {},
   "outputs": [
    {
     "name": "stdout",
     "output_type": "stream",
     "text": [
      "Hello Ross Taylor! You just delved into python.\n"
     ]
    }
   ],
   "source": [
    "# Task 2\n",
    "# You are given the firstname and lastname of a person on two different lines. Your task is to read them and print the following:\n",
    "# Hello firstname lastname! You just delved into python.\n",
    "\n",
    "print(\"Hello Ross Taylor! You just delved into python.\")"
   ]
  },
  {
   "cell_type": "markdown",
   "metadata": {},
   "source": [
    "# DATA TYPES :- \n",
    "(27 MAY 2018)\n",
    "A data type, in programming, is a classification that specifies which type of value a variable has and what type of mathematical, relational or logical operations can be applied to it without causing an error."
   ]
  },
  {
   "cell_type": "markdown",
   "metadata": {
    "collapsed": true
   },
   "source": [
    "## 1. Number\n",
    "## 2. String\n",
    "## 3. List\n",
    "## 4. Tuples\n",
    "## 5. Dictionary \n",
    "## 6. Sets"
   ]
  },
  {
   "cell_type": "markdown",
   "metadata": {},
   "source": [
    "# NUMBER DATA TYPES .... \n",
    "Number data types are 3 types -\n",
    "\n",
    "\n",
    "1> int = 5\n",
    "\n",
    "2> float = 2.2\n",
    "\n",
    "3> complex = 3.3+3.3j"
   ]
  },
  {
   "cell_type": "code",
   "execution_count": 11,
   "metadata": {},
   "outputs": [
    {
     "name": "stdout",
     "output_type": "stream",
     "text": [
      "<class 'int'> 5\n",
      "<class 'float'> 3.014\n",
      "<class 'complex'> (3.14+3.6j)\n"
     ]
    }
   ],
   "source": [
    "# CHECKING TYPE OF INTEGER\n",
    "x = 5 \n",
    "y = 3.014\n",
    "z = 3.14+3.6j\n",
    "print(type(x),x)\n",
    "print(type(y),y)\n",
    "print(type(z),z)"
   ]
  },
  {
   "cell_type": "code",
   "execution_count": 27,
   "metadata": {},
   "outputs": [
    {
     "name": "stdout",
     "output_type": "stream",
     "text": [
      "5\n",
      "1\n",
      "6\n",
      "1.5\n",
      "1\n"
     ]
    }
   ],
   "source": [
    "# Addition, Subtraction, Multiplication, Division, Modulus )\n",
    "a = 3\n",
    "b = 2\n",
    "c = a+b\n",
    "d = a-b\n",
    "e = a*b\n",
    "f = a/b \n",
    "g = a%b\n",
    "print(c)\n",
    "print(d)\n",
    "print(e)\n",
    "print(f)\n",
    "print(g)"
   ]
  },
  {
   "cell_type": "code",
   "execution_count": 17,
   "metadata": {},
   "outputs": [
    {
     "name": "stdout",
     "output_type": "stream",
     "text": [
      "Addition of 19 and 10 is = 29\n",
      "Subtraction of 19 and 10 is = 9\n",
      "Multiplication of 19 and 10 is = 190\n",
      "Division of 19 and 10 is = 1.9\n",
      "Modulous of 19 and 10 is = 9\n"
     ]
    }
   ],
   "source": [
    "# Addition, Subtraction, Multiplication, Division, Modulus\n",
    "x = 19\n",
    "y = 10\n",
    "z = x+y\n",
    "w = x-y\n",
    "v = x*y\n",
    "u = x/y\n",
    "t = x%y\n",
    "print(\"Addition of {} and {} is = {}\" .format(x,y,z))\n",
    "print(\"Subtraction of {} and {} is = {}\" .format(x,y,w))\n",
    "print(\"Multiplication of {} and {} is = {}\" .format(x,y,v))\n",
    "print(\"Division of {} and {} is = {}\" .format(x,y,u))\n",
    "print(\"Modulous of {} and {} is = {}\" .format(x,y,t))"
   ]
  },
  {
   "cell_type": "code",
   "execution_count": 18,
   "metadata": {},
   "outputs": [
    {
     "name": "stdout",
     "output_type": "stream",
     "text": [
      "Enter First Number:3\n",
      "Enter Second Number:3\n",
      "Addition of 3.0 and 3.0 is = 6.0\n",
      "Subtraction of 3.0 and 3.0 is = 0.0\n",
      "Multiplication of 3.0 and 3.0 is = 9.0\n",
      "Division of 3.0 and 3.0 is = 1.0\n",
      "Modulous of 3.0 and 3.0 is = 0.0\n"
     ]
    }
   ],
   "source": [
    "# +, -, *, /, % BY USER INPUT\n",
    "x = float(input(\"Enter First Number:\"))\n",
    "y = float(input(\"Enter Second Number:\"))\n",
    "z = x+y\n",
    "w = x-y\n",
    "v = x*y\n",
    "u = x/y\n",
    "t = x%y\n",
    "print(\"Addition of {} and {} is = {}\" .format(x,y,z))\n",
    "print(\"Subtraction of {} and {} is = {}\" .format(x,y,w))\n",
    "print(\"Multiplication of {} and {} is = {}\" .format(x,y,v))\n",
    "print(\"Division of {} and {} is = {}\" .format(x,y,u))\n",
    "print(\"Modulous of {} and {} is = {}\" .format(x,y,t))"
   ]
  },
  {
   "cell_type": "code",
   "execution_count": 26,
   "metadata": {},
   "outputs": [
    {
     "name": "stdout",
     "output_type": "stream",
     "text": [
      "3\n",
      "2\n",
      "5\n",
      "1\n",
      "6\n"
     ]
    }
   ],
   "source": [
    "# Task - 2 (HACKERRANK)\n",
    "#Read two integers from STDIN and print three lines where:\n",
    "\n",
    "#The first line contains the sum of the two numbers.\n",
    "#The second line contains the difference of the two numbers (first - second).\n",
    "#The third line contains the product of the two numbers.\n",
    "\n",
    "\n",
    "a = int(input())\n",
    "b = int(input())\n",
    "c = a+b\n",
    "d = a-b\n",
    "e = a*b\n",
    "print(c)\n",
    "print(d)\n",
    "print(e)"
   ]
  },
  {
   "cell_type": "code",
   "execution_count": 28,
   "metadata": {},
   "outputs": [
    {
     "name": "stdout",
     "output_type": "stream",
     "text": [
      "4\n",
      "3\n",
      "1\n",
      "1.3333333333333333\n"
     ]
    }
   ],
   "source": [
    "# Task 3\n",
    "#Read two integers and print two lines.\n",
    "#The first line should contain integer division,a/b.\n",
    "#The second line should contain float division,a/b .\n",
    "#You don't need to perform any rounding or formatting operations.\n",
    "\n",
    "a = int(input())\n",
    "b = int(input())\n",
    "c = int(a/b)\n",
    "d = float(a/b)\n",
    "print(c)\n",
    "print(d)"
   ]
  },
  {
   "cell_type": "code",
   "execution_count": 1,
   "metadata": {},
   "outputs": [
    {
     "name": "stdout",
     "output_type": "stream",
     "text": [
      "3\n",
      "123"
     ]
    }
   ],
   "source": [
    "#Read an integer N.\n",
    "#Without using any string methods, try to print the following: 123...N\n",
    "#Note that \"...\" represents the values in between.\n",
    "v = 1\n",
    "n = int(input())\n",
    "for v in range(1,n+1):\n",
    "    print(v,end='')"
   ]
  },
  {
   "cell_type": "markdown",
   "metadata": {},
   "source": [
    "# STRING DATA TYPES:-\n",
    "(29 MAY 2018)"
   ]
  },
  {
   "cell_type": "code",
   "execution_count": 3,
   "metadata": {},
   "outputs": [
    {
     "name": "stdout",
     "output_type": "stream",
     "text": [
      "single Quoted\n",
      "double quoted\n",
      " hii\n",
      " this is multi line...\n"
     ]
    }
   ],
   "source": [
    "# how to use string \n",
    "x = 'single Quoted'\n",
    "y = \"double quoted\"\n",
    "z = \"\"\" hii\n",
    " this is multi line...\"\"\"\n",
    "print (x)\n",
    "print (y)\n",
    "print (z)"
   ]
  },
  {
   "cell_type": "code",
   "execution_count": 18,
   "metadata": {},
   "outputs": [
    {
     "name": "stdout",
     "output_type": "stream",
     "text": [
      "python\n",
      "length of string  6\n",
      "Indexing of string  t\n",
      "Slicing of string  ytho\n",
      "python\n",
      "ython\n",
      "python\n",
      "py\n",
      "pto\n",
      "nohtyp\n",
      "noht\n"
     ]
    }
   ],
   "source": [
    "#FUNCTIONS OF STRING:- \n",
    "    #length - Count the length of the String \n",
    "s = \"python\"\n",
    "k = len(s)\n",
    "print(s)\n",
    "print (\"length of string \",k)\n",
    "    #indexing - find the position of the charater\n",
    "print (\"Indexing of string \",s[2])\n",
    "    #slicing - divided into parts(cut)\n",
    "print(\"Slicing of string \",s[1:5])\n",
    "print (s[:6]) # starting from 0 to 6 end \n",
    "print (s[1:]) # starting frone 1 to end \n",
    "print (s[:]) # starting to end\n",
    "x = (s[:2])  # to store a value in a variable\n",
    "print (x)\n",
    "print (s[::2]) # Skip 1 Numbers and take the next number\n",
    "print (s[::-1]) # Reverse the string\n",
    "print (s[-1:-5:-1])"
   ]
  },
  {
   "cell_type": "code",
   "execution_count": 77,
   "metadata": {},
   "outputs": [
    {
     "name": "stdout",
     "output_type": "stream",
     "text": [
      "I love python programming\n",
      "i love python programming\n",
      "            I loVe PyTHon PrograMMing             \n",
      "1\n",
      "b'I loVe PyTHon PrograMMing'\n",
      "True\n",
      "I loVe PyTHon PrograMMing\n",
      "7\n",
      "We loVe PyTHon PrograMMing\n",
      "I LOVE PYTHON PROGRAMMING\n",
      "i love python programming\n",
      "False\n",
      "i LOvE pYthON pROGRAmmING\n",
      "I Love Python Programming\n",
      "00000000000000000000000000000000000000000000000000000000000000000I loVe PyTHon PrograMMing\n",
      "S.find(sub[, start[, end]]) -> int\n",
      "\n",
      "Return the lowest index in S where substring sub is found,\n",
      "such that sub is contained within S[start:end].  Optional\n",
      "arguments start and end are interpreted as in slice notation.\n",
      "\n",
      "Return -1 on failure.\n"
     ]
    }
   ],
   "source": [
    "#ATTRIBUTES OF STRING...\n",
    "x = \"I loVe PyTHon PrograMMing\"\n",
    "print (x.capitalize())\n",
    "print (x.casefold())\n",
    "print (x.center(50))\n",
    "print (x.count(x))\n",
    "print (x.encode())\n",
    "print (x.endswith(x))\n",
    "print (x.expandtabs(8))\n",
    "print (x.find('PyTHon'))\n",
    "print (x.replace('I','We'))\n",
    "print (x.upper())\n",
    "print (x.lower())\n",
    "print (x.isnumeric())\n",
    "print (x.swapcase())\n",
    "print (x.title())\n",
    "print (x.zfill(90))\n",
    "# To knw more about the all attributes \n",
    "doc = x.find.__doc__\n",
    "print (doc)"
   ]
  },
  {
   "cell_type": "code",
   "execution_count": 3,
   "metadata": {},
   "outputs": [
    {
     "name": "stdout",
     "output_type": "stream",
     "text": [
      "qA12\n",
      "False\n",
      "False\n",
      "False\n",
      "False\n"
     ]
    }
   ],
   "source": [
    "s = input()\n",
    "if s = s.isalpha() or s.isalnum() or s.isdigit() or s.islower() or s.isupper():\n",
    "    print \n",
    "print(s.isalpha()) \n",
    "print()\n",
    "print(())\n",
    "print()\n",
    "print(s.isupper())\n",
    " \n"
   ]
  },
  {
   "cell_type": "code",
   "execution_count": 25,
   "metadata": {},
   "outputs": [
    {
     "name": "stdout",
     "output_type": "stream",
     "text": [
      "HackerRank.com presents \"Pythonist 2\".\n",
      "hACKERrANK.COM PRESENTS \"pYTHONIST 2\".\n"
     ]
    }
   ],
   "source": [
    "#Task on Hackerrank \n",
    "#You are given a string and your task is to swap cases. In other words, convert all lowercase letters to uppercase letters and vice versa.\n",
    "#Www.HackerRank.com → wWW.hACKERrANK.COM\n",
    "#Pythonist 2 → pYTHONIST 2\n",
    "\n",
    "s = input()\n",
    "print (s.swapcase())"
   ]
  },
  {
   "cell_type": "code",
   "execution_count": 21,
   "metadata": {},
   "outputs": [
    {
     "name": "stdout",
     "output_type": "stream",
     "text": [
      "this-is-a-string\n"
     ]
    }
   ],
   "source": [
    "#HackerRank Task\n",
    "#You are given a string. \n",
    "#Split the string on a \" \" (space) delimiter\n",
    "#join using a - hyphen.\n",
    "\n",
    "a = \"this is a string\"\n",
    "a = a.split(\" \") # a is converted to a list of strings. \n",
    "b = (\"-\").join(a)\n",
    "#print (a)\n",
    "print(b)\n"
   ]
  },
  {
   "cell_type": "code",
   "execution_count": 22,
   "metadata": {},
   "outputs": [
    {
     "name": "stdout",
     "output_type": "stream",
     "text": [
      "sonali\n",
      "mathur\n",
      "Hello sonali mathur! You just delved into python.\n"
     ]
    }
   ],
   "source": [
    "#You are given the firstname and lastname of a person on two different lines. \n",
    "#Your task is to read them and print the following:\n",
    "# \"Hello firstname lastname! You just delved into python.\"\n",
    "firstname = input()\n",
    "lastname = input()\n",
    "print (\"Hello {} {}! You just delved into python.\".format(firstname,lastname))"
   ]
  },
  {
   "cell_type": "code",
   "execution_count": 13,
   "metadata": {},
   "outputs": [
    {
     "name": "stdout",
     "output_type": "stream",
     "text": [
      "f gmh\n"
     ]
    }
   ],
   "source": [
    "S = input()\n",
    "'''l = S.split(' ')\n",
    "for v in l:\n",
    "    print(v.capitalize(),end=' ')'''\n",
    "\n",
    "def slove(s):\n",
    "    s = s.strip()\n",
    "    l = [ ]\n",
    "    for v in s:\n",
    "        l.append(v.capitalize(),end=' ')\n",
    "\n",
    "        return''.join(l)\n",
    "    print(l)\n",
    "    \n",
    "    \n",
    "    "
   ]
  },
  {
   "cell_type": "markdown",
   "metadata": {},
   "source": [
    "# LIST - Collection of items(data types)\n",
    "List is a Mutable data type.\n",
    "List are 2 types\n",
    "1. Homogenous list - Array \n",
    "2. Hetrogenus list - structure\n",
    "\n",
    "Symbol=== ListName = [elements of list]"
   ]
  },
  {
   "cell_type": "code",
   "execution_count": 4,
   "metadata": {},
   "outputs": [
    {
     "name": "stdout",
     "output_type": "stream",
     "text": [
      "[1, 2, 3, 4, 5, 69, 6, 7, 8, 9, 0]\n",
      "[1, 'hi', 2, 'hey', 3, 'helo', 4, 'hello', 5]\n",
      "1 2 3 4 5 69 6 7 8 9 0\n",
      "1 hi 2 hey 3 helo 4 hello 5\n"
     ]
    }
   ],
   "source": [
    "# Print a Homo and hetro list\n",
    "l = [1,2,3,4,5,69,6,7,8,9,0]\n",
    "print (l)\n",
    "ll = [1, 'hi', 2, 'hey', 3, 'helo', 4, 'hello', 5]\n",
    "print (ll)\n",
    "\n",
    "# Print list without using [] and '' and ,\n",
    "# us '*' to print only values or elements of list \n",
    "l = [1,2,3,4,5,69,6,7,8,9,0]\n",
    "print (*l)\n",
    "ll = [1, 'hi', 2, 'hey', 3, 'helo', 4, 'hello', 5]\n",
    "print (*ll)"
   ]
  },
  {
   "cell_type": "code",
   "execution_count": 11,
   "metadata": {},
   "outputs": [
    {
     "name": "stdout",
     "output_type": "stream",
     "text": [
      "['__add__', '__class__', '__contains__', '__delattr__', '__delitem__', '__dir__', '__doc__', '__eq__', '__format__', '__ge__', '__getattribute__', '__getitem__', '__gt__', '__hash__', '__iadd__', '__imul__', '__init__', '__init_subclass__', '__iter__', '__le__', '__len__', '__lt__', '__mul__', '__ne__', '__new__', '__reduce__', '__reduce_ex__', '__repr__', '__reversed__', '__rmul__', '__setattr__', '__setitem__', '__sizeof__', '__str__', '__subclasshook__', 'append', 'clear', 'copy', 'count', 'extend', 'index', 'insert', 'pop', 'remove', 'reverse', 'sort']\n"
     ]
    }
   ],
   "source": [
    "# See th all function of list\n",
    "print (dir(l))\n",
    "\n",
    "\n",
    "# Total 3 Function we use \n",
    "    # ADD items\n",
    "    # REMOVE items\n",
    "    # COMMON function"
   ]
  },
  {
   "cell_type": "code",
   "execution_count": 24,
   "metadata": {},
   "outputs": [
    {
     "name": "stdout",
     "output_type": "stream",
     "text": [
      "1. ADD items\n",
      "[1, 545, 67, 6, 89]\n",
      "1 545 67 6 89 Hel\n",
      "1 545 67 6 Sonali 89 Hel\n",
      "1 545 67 6 Sonali 89 Hel M a\n",
      "1 545 67 6 Sonali 89 Hel M a Mathur\n"
     ]
    }
   ],
   "source": [
    "# Total 3 Function we use \n",
    "q = [1,545,67,6,89]\n",
    "print (\"1. ADD items\")\n",
    "    # APPEND -> It will add items in the end of the list\n",
    "print (q)\n",
    "q.append (\"Hel\")\n",
    "print (*q)\n",
    "    # INSERT -> It will take index number and add that item to given index...\n",
    "q.insert(4,'Sonali')\n",
    "print (*q)\n",
    "    # EXTEND -> It will used to add multiple items in the list...\n",
    "q.extend ('Ma') \n",
    "print (*q)\n",
    "q.extend (['Mathur']) \n",
    "print (*q)"
   ]
  },
  {
   "cell_type": "code",
   "execution_count": 44,
   "metadata": {},
   "outputs": [
    {
     "name": "stdout",
     "output_type": "stream",
     "text": [
      "REMOVE items\n",
      "1 545 67 6 89 p\n",
      "1 545 67 6 89\n",
      "545 67 6 89\n",
      "545 67 89\n"
     ]
    }
   ],
   "source": [
    "q = [1,545,67,6,89,'p']\n",
    "print (\"REMOVE items\")\n",
    "print (*q)\n",
    "    #pop\n",
    "q.pop() # pop last element of the list\n",
    "print (*q)\n",
    "q.pop(0) # (0) use index number\n",
    "print (*q)\n",
    "    # remove\n",
    "q.remove(6)\n",
    "print (*q)"
   ]
  },
  {
   "cell_type": "code",
   "execution_count": 13,
   "metadata": {},
   "outputs": [
    {
     "name": "stdout",
     "output_type": "stream",
     "text": [
      "COMMON function\n"
     ]
    }
   ],
   "source": [
    "print (\"COMMON function\")\n"
   ]
  },
  {
   "cell_type": "code",
   "execution_count": 16,
   "metadata": {},
   "outputs": [
    {
     "name": "stdout",
     "output_type": "stream",
     "text": [
      "['a[2][0]', 'a[2][1]', 'a[2][2]']\n",
      "a[0][0]\n"
     ]
    }
   ],
   "source": [
    "# Example of 2D List \n",
    "mylist = [\n",
    "    ['a[0][0]','a[0][1]','a[0][2]'],\n",
    "    ['a[1][0]','a[1][1]','a[1][2]'],\n",
    "    ['a[2][0]','a[2][1]','a[2][2]']\n",
    "]\n",
    "print (mylist[2]) # Tell the indexing according to the input\n",
    "print (mylist[0][0]) # Print the number accordint to the indexing. "
   ]
  },
  {
   "cell_type": "code",
   "execution_count": 17,
   "metadata": {},
   "outputs": [
    {
     "name": "stdout",
     "output_type": "stream",
     "text": [
      "hello\n"
     ]
    }
   ],
   "source": [
    "# Class Task :- \n",
    "# Print the 'hello' \n",
    "# Nested List\n",
    "mylist = [\n",
    "    [1,2,45,34,234],\n",
    "    [123,34,6,67,45],\n",
    "    [23,4,7,78,[23,45,'hello',4]]\n",
    "]\n",
    "x = mylist[2][4][2]\n",
    "print (x)"
   ]
  },
  {
   "cell_type": "code",
   "execution_count": 15,
   "metadata": {},
   "outputs": [
    {
     "name": "stdout",
     "output_type": "stream",
     "text": [
      "35\n",
      "fdgf\n",
      "f\n",
      "h\n",
      "gfhgf\n",
      "g\n",
      "h\n",
      "hg\n",
      "\n"
     ]
    },
    {
     "ename": "IndexError",
     "evalue": "list index out of range",
     "output_type": "error",
     "traceback": [
      "\u001b[1;31m---------------------------------------------------------------------------\u001b[0m",
      "\u001b[1;31mIndexError\u001b[0m                                Traceback (most recent call last)",
      "\u001b[1;32m<ipython-input-15-37a0dff9dcfd>\u001b[0m in \u001b[0;36m<module>\u001b[1;34m()\u001b[0m\n\u001b[0;32m      3\u001b[0m \u001b[1;32mfor\u001b[0m \u001b[0mv\u001b[0m \u001b[1;32min\u001b[0m \u001b[0mrange\u001b[0m \u001b[1;33m(\u001b[0m\u001b[0mt\u001b[0m\u001b[1;33m)\u001b[0m\u001b[1;33m:\u001b[0m\u001b[1;33m\u001b[0m\u001b[0m\n\u001b[0;32m      4\u001b[0m     \u001b[0mv\u001b[0m \u001b[1;33m=\u001b[0m \u001b[0mlist\u001b[0m\u001b[1;33m(\u001b[0m\u001b[0minput\u001b[0m\u001b[1;33m(\u001b[0m\u001b[1;33m)\u001b[0m\u001b[1;33m.\u001b[0m\u001b[0msplit\u001b[0m\u001b[1;33m(\u001b[0m\u001b[1;33m)\u001b[0m\u001b[1;33m)\u001b[0m\u001b[1;33m\u001b[0m\u001b[0m\n\u001b[1;32m----> 5\u001b[1;33m     \u001b[1;32mif\u001b[0m \u001b[0mv\u001b[0m\u001b[1;33m[\u001b[0m\u001b[1;36m0\u001b[0m\u001b[1;33m]\u001b[0m\u001b[1;33m==\u001b[0m\u001b[1;34m'insert'\u001b[0m\u001b[1;33m:\u001b[0m\u001b[1;33m\u001b[0m\u001b[0m\n\u001b[0m\u001b[0;32m      6\u001b[0m         \u001b[0ms\u001b[0m\u001b[1;33m.\u001b[0m\u001b[0minsert\u001b[0m\u001b[1;33m(\u001b[0m\u001b[0mint\u001b[0m\u001b[1;33m(\u001b[0m\u001b[0mv\u001b[0m\u001b[1;33m[\u001b[0m\u001b[1;36m1\u001b[0m\u001b[1;33m]\u001b[0m\u001b[1;33m)\u001b[0m\u001b[1;33m,\u001b[0m\u001b[0mint\u001b[0m\u001b[1;33m(\u001b[0m\u001b[0mv\u001b[0m\u001b[1;33m[\u001b[0m\u001b[1;36m2\u001b[0m\u001b[1;33m]\u001b[0m\u001b[1;33m)\u001b[0m\u001b[1;33m)\u001b[0m\u001b[1;33m\u001b[0m\u001b[0m\n\u001b[0;32m      7\u001b[0m     \u001b[1;32melif\u001b[0m \u001b[0mv\u001b[0m\u001b[1;33m[\u001b[0m\u001b[1;36m0\u001b[0m\u001b[1;33m]\u001b[0m\u001b[1;33m==\u001b[0m\u001b[1;34m\"remove\"\u001b[0m\u001b[1;33m:\u001b[0m\u001b[1;33m\u001b[0m\u001b[0m\n",
      "\u001b[1;31mIndexError\u001b[0m: list index out of range"
     ]
    }
   ],
   "source": [
    "t = int(input())\n",
    "s = [ ]\n",
    "for v in range (t):\n",
    "    v = list(input().split())\n",
    "    if v[0]=='insert':\n",
    "        s.insert(int(v[1]),int(v[2]))\n",
    "    elif v[0]==\"remove\":\n",
    "        s.remove()\n",
    "    elif v[0]==\"append\":\n",
    "        s.append()\n",
    "    elif v[0]==\"sort\":\n",
    "        s.sort()\n",
    "    elif v[0]==\"pop\":\n",
    "        s.pop()\n",
    "    elif v[0]==\"reverse\":\n",
    "        s.reverse()\n",
    "    elif v[0]==\"count\":\n",
    "        v=s.count()\n",
    "        print(v)\n",
    "    elif v[0]==\"index\":\n",
    "        x=s.index()\n",
    "        print(x)\n",
    "   \n",
    "    elif v[0]== 'print':\n",
    "        print(s)"
   ]
  },
  {
   "cell_type": "markdown",
   "metadata": {},
   "source": [
    "## Tuples \n",
    "(30 May 2018)\n",
    "\n",
    "Tuples are immutables data types that can be changed after it's defination. \n",
    "\n",
    "Tuples are different from list in the terms of function.\n",
    "\n",
    "Tuple are use only count and index."
   ]
  },
  {
   "cell_type": "code",
   "execution_count": 12,
   "metadata": {},
   "outputs": [
    {
     "name": "stdout",
     "output_type": "stream",
     "text": [
      "('one', 2, 'three', 2, [1, 2, 3, 4], 5, 3, 2, 324)\n",
      "['__add__', '__class__', '__contains__', '__delattr__', '__dir__', '__doc__', '__eq__', '__format__', '__ge__', '__getattribute__', '__getitem__', '__getnewargs__', '__gt__', '__hash__', '__init__', '__init_subclass__', '__iter__', '__le__', '__len__', '__lt__', '__mul__', '__ne__', '__new__', '__reduce__', '__reduce_ex__', '__repr__', '__rmul__', '__setattr__', '__sizeof__', '__str__', '__subclasshook__', 'count', 'index']\n",
      "(324, 2, 3, 5, [1, 2, 3, 4], 2, 'three', 2, 'one')\n",
      "2 is repeted 3 time in tuple\n",
      "Index of 3 is 8\n",
      "4\n"
     ]
    }
   ],
   "source": [
    "mytuple = ('one',2,'three',2,[1,2,3,4],5,3,2,324)\n",
    "print (mytuple) # Just print the Tuple\n",
    "print (dir(mytuple))\n",
    "print (mytuple[-1::-1]) # Slicing of a tuple\n",
    "print (\"2 is repeted {} time in tuple\".format(mytuple.count(2))) # Count the repection of the element that we input.\n",
    "print (\"Index of 3 is\",mytuple.index(324)) # Tell us the index number of the input elements.\n",
    "print (mytuple[4][3]) # 4 is the outer tuple indexing and 3 is the inner tuple indexing. By this can know the element of that index postion. "
   ]
  },
  {
   "cell_type": "markdown",
   "metadata": {},
   "source": [
    "#  Dictionary \n",
    "Dictionaries are collection of keys and values.\n",
    "\n",
    "Seprated with : and enclosed in {}.\n",
    "\n",
    "Syntax dict_name ={'key1':'value1','key2':'value2'}"
   ]
  },
  {
   "cell_type": "code",
   "execution_count": 46,
   "metadata": {},
   "outputs": [
    {
     "name": "stdout",
     "output_type": "stream",
     "text": [
      "name scope build_year Frame Works Father Fields\n",
      "python lang\n",
      "dict_items([('name', 'python lang'), ('scope', 'World Wide'), ('build_year', 1994), ('Frame Works', ['Django', 'Flask', 'Web2py', 'Pyramid']), ('Father', 'Guido Van Rossum'), ('Fields', ['Scripting', 'Automation', 'Cloud', 'AI', 'ML', 'Data Science', 'Web Desgining', 'Software Development'])])\n",
      "dict_keys(['name', 'scope', 'build_year', 'Frame Works', 'Father', 'Fields'])\n",
      "dict_values(['python lang', 'World Wide', 1994, ['Django', 'Flask', 'Web2py', 'Pyramid'], 'Guido Van Rossum', ['Scripting', 'Automation', 'Cloud', 'AI', 'ML', 'Data Science', 'Web Desgining', 'Software Development']])\n"
     ]
    }
   ],
   "source": [
    "mydict = {\n",
    "    'name' : 'python lang',\n",
    "    'scope' : 'World Wide',\n",
    "    'build_year' : 1994,\n",
    "    'Frame Works' : ['Django','Flask','Web2py','Pyramid'],\n",
    "    'Father' : 'Guido Van Rossum',\n",
    "    'Fields' : ['Scripting','Automation','Cloud','AI','ML','Data Science','Web Desgining','Software Development'],\n",
    "    }\n",
    "print(*mydict) # Print dictionary only keys.\n",
    "# print(dir(mydict)) Print All attributes anf function of dictionary\n",
    "print(mydict.get('name')) #Print a particular key's value\n",
    "print(mydict.items()) #Print full dictionary\n",
    "print(mydict.keys()) #Print keys only\n",
    "print(mydict.values()) #Print values only "
   ]
  },
  {
   "cell_type": "code",
   "execution_count": 47,
   "metadata": {},
   "outputs": [
    {
     "name": "stdout",
     "output_type": "stream",
     "text": [
      "name scope build_year frame_works father fields\n",
      "Here Are your keys to select \n",
      "Enter a key : name\n",
      "Your key is : name\n",
      "Python Programming Language\n",
      "Enter your Value : Python Language\n",
      "Enter New Key : name\n",
      "Python Language sucessfully added\n",
      "{'name': 'Python Language', 'scope': 'World Wide', 'build_year': 1994, 'frame_works': ['Django', 'Flask', 'Web2py', 'Pyramid'], 'father': 'Guido Van Rossum', 'fields': ['Scripting', 'Automation', 'Cloud', 'AI', 'ML', 'Data Science', 'Web Desgining', 'Software Development']}\n"
     ]
    }
   ],
   "source": [
    "# To change, add any key or value in dictionary\n",
    "mydict = {\n",
    "    'name' : 'python',\n",
    "    'scope' : 'World Wide',\n",
    "    'build_year' : 1994,\n",
    "    'frame_works' : ['Django','Flask','Web2py','Pyramid'],\n",
    "    'father' : 'Guido Van Rossum',\n",
    "    'fields' : ['Scripting','Automation','Cloud','AI','ML','Data Science','Web Desgining','Software Development'],\n",
    "    }\n",
    "print(*mydict.keys()) # To print the keys to select \n",
    "print(\"Here Are your keys to select \") # To select the key \n",
    "mydict['name'] = 'Python Programming Language' # changes in \n",
    "key = input(\"Enter a key : \").strip().lower() # strip=Remove spaces \n",
    "print(\"Your key is : {}\".format(key)) #Show key and its value\n",
    "value = mydict[key] \n",
    "print(value) # change the value of key \n",
    "mydict[input(\"Enter New Key : \")] = input(\"Enter your Value : \") \n",
    "print(mydict[key],\"sucessfully added\")\n",
    "print(mydict)"
   ]
  },
  {
   "cell_type": "markdown",
   "metadata": {},
   "source": [
    "# Sets"
   ]
  },
  {
   "cell_type": "code",
   "execution_count": 48,
   "metadata": {},
   "outputs": [
    {
     "name": "stdout",
     "output_type": "stream",
     "text": [
      "{1, 2, 3, 4, 5}\n",
      "{4, 5, 6, 7, 8}\n",
      "Type os s1 =  <class 'set'>\n",
      "['__and__', '__class__', '__contains__', '__delattr__', '__dir__', '__doc__', '__eq__', '__format__', '__ge__', '__getattribute__', '__gt__', '__hash__', '__iand__', '__init__', '__init_subclass__', '__ior__', '__isub__', '__iter__', '__ixor__', '__le__', '__len__', '__lt__', '__ne__', '__new__', '__or__', '__rand__', '__reduce__', '__reduce_ex__', '__repr__', '__ror__', '__rsub__', '__rxor__', '__setattr__', '__sizeof__', '__str__', '__sub__', '__subclasshook__', '__xor__', 'add', 'clear', 'copy', 'difference', 'difference_update', 'discard', 'intersection', 'intersection_update', 'isdisjoint', 'issubset', 'issuperset', 'pop', 'remove', 'symmetric_difference', 'symmetric_difference_update', 'union', 'update']\n"
     ]
    }
   ],
   "source": [
    "s1 = { 1,2,3,4,5,1,1,1,1,1,5,5,5,5}\n",
    "s2 = { 4,5,6,7,8,8,8,8,8,8,5,5,5,5,}\n",
    "print(s1) # Print only Single numbers\n",
    "print(s2) # Print only Single numbers\n",
    "print(\"Type os s1 = \",type(s1)) # Tell us type of set\n",
    "print(dir(s1)) #Print all attributes and function of the Sets "
   ]
  },
  {
   "cell_type": "code",
   "execution_count": 65,
   "metadata": {},
   "outputs": [
    {
     "name": "stdout",
     "output_type": "stream",
     "text": [
      "ADD None\n",
      "Intersection of s1 and s2 is  {4, 5}\n",
      "Unison of s1 and s2 is  {1, 2, 3, 4, 5, 'ss', 6, 7, 8, 45}\n",
      "Difference of {1, 2, 3, 4, 5, 'ss', 45} with {4, 5, 6, 7, 8} is {1, 2, 3, 'ss', 45}.\n",
      "Isdisjoint False\n",
      "Symmetric_Difference {1, 2, 3, 'ss', 6, 7, 8, 45}\n"
     ]
    }
   ],
   "source": [
    "#value = s1.add()\n",
    "print(\"ADD\",s1.add('ss'))\n",
    "#value = s1.intersection(s2)\n",
    "print(\"Intersection of s1 and s2 is \",s1.intersection(s2))\n",
    "#value = s1.union(s2)\n",
    "print(\"Unison of s1 and s2 is \",s1.union(s2))\n",
    "value = s1.difference(s2)\n",
    "print(\"Difference of {} with {} is {}.\".format(s1,s2,value))\n",
    "value = s1.isdisjoint(s2)\n",
    "print (\"Isdisjoint\",s1.isdisjoint(s2))\n",
    "value = s1.symmetric_difference(s2)\n",
    "print (\"Symmetric_Difference\",s1.symmetric_difference(s2))"
   ]
  },
  {
   "cell_type": "markdown",
   "metadata": {},
   "source": [
    "# TYPE CONVERSION"
   ]
  },
  {
   "cell_type": "code",
   "execution_count": null,
   "metadata": {
    "scrolled": true
   },
   "outputs": [
    {
     "name": "stdout",
     "output_type": "stream",
     "text": [
      "X =  ABCDEF\n",
      "Y =  11259375\n",
      "Type of X :  <class 'str'>\n",
      "Type of Y :  <class 'int'>\n"
     ]
    }
   ],
   "source": [
    "x = 'ABCDEF'\n",
    "y = int(x,16)\n",
    "print(\"X = \",x)\n",
    "print(\"Y = \",y)\n",
    "print(\"Type of X : \",type(x))\n",
    "print(\"Type of Y : \",type(y))\n",
    "x = int(input(\"Enter a no : \"),16) # To change into in the hex \n",
    "print(\"Type of x \")\n",
    "print(\"X = \",x)"
   ]
  },
  {
   "cell_type": "code",
   "execution_count": 66,
   "metadata": {},
   "outputs": [
    {
     "name": "stdout",
     "output_type": "stream",
     "text": [
      "Enter key1 : q\n",
      "Enter value1 : p\n",
      "Enter key2 : z\n",
      "Enter value2 : m\n",
      "{'q': 'p', 'z': 'm'}\n"
     ]
    }
   ],
   "source": [
    "# Class Task- Convert into LIST TO DICTIONARY. Take inpute fron user.\n",
    "outer_list = []\n",
    "inner_list = []\n",
    "key1 = input(\"Enter key1 : \")\n",
    "value1 = input(\"Enter value1 : \")\n",
    "inner_list.append(key1)\n",
    "inner_list.append(value1)\n",
    "outer_list.append(inner_list)\n",
    "d = dict(outer_list)\n",
    "inner_list.clear()\n",
    "key2 = input(\"Enter key2 : \")\n",
    "value2 = input(\"Enter value2 : \")\n",
    "inner_list.append(key2)\n",
    "inner_list.append(value2)\n",
    "outer_list.append(inner_list)\n",
    "d.update(outer_list)\n",
    "print(d)"
   ]
  },
  {
   "cell_type": "code",
   "execution_count": 67,
   "metadata": {},
   "outputs": [
    {
     "name": "stdout",
     "output_type": "stream",
     "text": [
      "Enter key1 : q\n",
      "Enter value 1 : p\n",
      "Enter key2 : z\n",
      "Enter value 2 : m\n",
      "{'q': 'p', 'z': 'm'}\n"
     ]
    }
   ],
   "source": [
    "#Print direct dictionary \n",
    "d = {\n",
    "    input(\"Enter key1 : \") : input(\"Enter value 1 : \"),\n",
    "    input(\"Enter key2 : \") : input(\"Enter value 2 : \"),\n",
    "}\n",
    "print(d)"
   ]
  },
  {
   "cell_type": "code",
   "execution_count": 9,
   "metadata": {},
   "outputs": [
    {
     "name": "stdout",
     "output_type": "stream",
     "text": [
      "['S', 'o', 'n', 'a', 'l', 'i']\n",
      "('S', 'o', 'n', 'a', 'l', 'i')\n"
     ]
    }
   ],
   "source": [
    "# LIST CONVERSION\n",
    "#converting a string into list\n",
    "s = 'Sonali'\n",
    "L = list(s)\n",
    "print (L)\n",
    "# converting a string into Tuple\n",
    "T = tuple(s)\n",
    "print (T)"
   ]
  },
  {
   "cell_type": "code",
   "execution_count": null,
   "metadata": {
    "collapsed": true
   },
   "outputs": [],
   "source": [
    "#TUPLE CONVERSION\n"
   ]
  }
 ],
 "metadata": {
  "kernelspec": {
   "display_name": "Python 3",
   "language": "python",
   "name": "python3"
  },
  "language_info": {
   "codemirror_mode": {
    "name": "ipython",
    "version": 3
   },
   "file_extension": ".py",
   "mimetype": "text/x-python",
   "name": "python",
   "nbconvert_exporter": "python",
   "pygments_lexer": "ipython3",
   "version": "3.6.3"
  }
 },
 "nbformat": 4,
 "nbformat_minor": 2
}
