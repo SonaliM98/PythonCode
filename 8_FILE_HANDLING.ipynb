{
 "cells": [
  {
   "cell_type": "markdown",
   "metadata": {},
   "source": [
    "# FILE HANFLING \n"
   ]
  },
  {
   "cell_type": "code",
   "execution_count": 2,
   "metadata": {
    "collapsed": true
   },
   "outputs": [],
   "source": [
    "# Create the file..(open)\"r+... \"\n",
    "f = open(\"E:\\\\PythonNotes\\\\1stFile.txt\",'r+') "
   ]
  },
  {
   "cell_type": "code",
   "execution_count": 32,
   "metadata": {},
   "outputs": [
    {
     "name": "stdout",
     "output_type": "stream",
     "text": [
      "File Name E:\\PythonNotes\\1stFile.txt\n",
      "Show the file mode r+\n"
     ]
    }
   ],
   "source": [
    "#Location & name of the file\n",
    "#file Mode\n",
    "print(\"File Name\",f.name)\n",
    "print(\"Show the file mode\",f.mode)"
   ]
  },
  {
   "cell_type": "code",
   "execution_count": 33,
   "metadata": {},
   "outputs": [
    {
     "name": "stdout",
     "output_type": "stream",
     "text": [
      "is File readable  True\n",
      "is File readable  True\n"
     ]
    }
   ],
   "source": [
    "#type of Mode \n",
    "print(\"is File readable \",f.readable())\n",
    "print(\"is File readable \",f.writable())"
   ]
  },
  {
   "cell_type": "code",
   "execution_count": 9,
   "metadata": {},
   "outputs": [
    {
     "name": "stdout",
     "output_type": "stream",
     "text": [
      "File handling...Hello World This is file handling in python.\n",
      "\n"
     ]
    }
   ],
   "source": [
    "#SEEK and SEEKABLE...=> Moving of Pointer...\n",
    "#f.seek('pos','from what')\n",
    "#from what 0 -> from begning\n",
    "#from what 1 -> current postiont\n",
    "#from what 2-> from end\n",
    "f.seek(11,0)\n",
    "d = f.readline()\n",
    "print(d)"
   ]
  },
  {
   "cell_type": "code",
   "execution_count": 10,
   "metadata": {},
   "outputs": [
    {
     "name": "stdout",
     "output_type": "stream",
     "text": [
      "Welcome to File handling...Hello World This is file handling in python.\n",
      "\t\t\tPython is Awesomeo File handling...Welcome to File handling...Hello World This is file handling in python.\n",
      "\t\t\tPython is AwesomeWelcome to File handling...Hello World This is file handling in python.\n",
      "\t\t\tPython is AwesomeWelcome to File handling...Hello World This is file handling in python.\n",
      "\t\t\tPython is Awesome\n",
      "File handling...Hello World This is file handling in python.\n",
      "\n",
      "73\n"
     ]
    }
   ],
   "source": [
    "# Read And Write And Seek for read from 0 position... \n",
    "#print(f.read())\n",
    "#f.write(\"Welcome to File handling...\")\n",
    "f.seek(0)\n",
    "print(f.read())\n",
    "# total number of char in file...\n",
    "#f.seek('pos','from what')\n",
    "#from what 0 -> from begning\n",
    "#from what 1 -> current postiont\n",
    "#from what 2-> from end\n",
    "f.seek(11,0)\n",
    "data = f.readline()\n",
    "print(data)\n",
    "print (f.tell()) # Total number of charater in the file...\n",
    "#f.close()"
   ]
  },
  {
   "cell_type": "code",
   "execution_count": 56,
   "metadata": {},
   "outputs": [
    {
     "name": "stdout",
     "output_type": "stream",
     "text": [
      "['_CHUNK_SIZE', '__class__', '__del__', '__delattr__', '__dict__', '__dir__', '__doc__', '__enter__', '__eq__', '__exit__', '__format__', '__ge__', '__getattribute__', '__getstate__', '__gt__', '__hash__', '__init__', '__init_subclass__', '__iter__', '__le__', '__lt__', '__ne__', '__new__', '__next__', '__reduce__', '__reduce_ex__', '__repr__', '__setattr__', '__sizeof__', '__str__', '__subclasshook__', '_checkClosed', '_checkReadable', '_checkSeekable', '_checkWritable', '_finalizing', 'buffer', 'close', 'closed', 'detach', 'encoding', 'errors', 'fileno', 'flush', 'isatty', 'line_buffering', 'mode', 'name', 'newlines', 'read', 'readable', 'readline', 'readlines', 'seek', 'seekable', 'tell', 'truncate', 'writable', 'write', 'writelines']\n"
     ]
    }
   ],
   "source": [
    "print(dir(t))"
   ]
  }
 ],
 "metadata": {
  "kernelspec": {
   "display_name": "Python 3",
   "language": "python",
   "name": "python3"
  },
  "language_info": {
   "codemirror_mode": {
    "name": "ipython",
    "version": 3
   },
   "file_extension": ".py",
   "mimetype": "text/x-python",
   "name": "python",
   "nbconvert_exporter": "python",
   "pygments_lexer": "ipython3",
   "version": "3.6.3"
  }
 },
 "nbformat": 4,
 "nbformat_minor": 2
}
