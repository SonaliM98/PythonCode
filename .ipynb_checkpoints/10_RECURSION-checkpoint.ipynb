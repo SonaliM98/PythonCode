{
 "cells": [
  {
   "cell_type": "markdown",
   "metadata": {},
   "source": [
    "# Recursion\n",
    "Recursion is a way of programming or coding a problem, in which a function calls itself one or more times in its body. \n",
    "\n",
    "It is returning the return value of this function call.\n",
    "\n",
    "... A recursion can lead to an infinite loop, if the base case is not met in the calls."
   ]
  },
  {
   "cell_type": "code",
   "execution_count": 2,
   "metadata": {},
   "outputs": [
    {
     "name": "stdout",
     "output_type": "stream",
     "text": [
      "Enter the number to find the factorial.:- 5\n",
      "1\n",
      "2\n",
      "6\n",
      "24\n",
      "120\n",
      "Time Taken...= -1528730871.6408083\n"
     ]
    }
   ],
   "source": [
    "# find Factorial of the input number... \n",
    "import time \n",
    "n = int(input(\"Enter the number to find the factorial.:- \"))\n",
    "s = 1\n",
    "c = time.time()\n",
    "for v in range (1,n+1):\n",
    "    s = s * v\n",
    "    print(s)\n",
    "print(\"Time Taken...=\",n-c)"
   ]
  },
  {
   "cell_type": "code",
   "execution_count": 1,
   "metadata": {},
   "outputs": [
    {
     "name": "stdout",
     "output_type": "stream",
     "text": [
      "demo fuc\n",
      "enter first val30\n",
      "enter first val5\n",
      "\n",
      "\n",
      "the addtion is  35\n",
      "the retun is  None\n"
     ]
    }
   ],
   "source": [
    "print(\"demo fuc\")\n",
    "def hello():\n",
    "    x=int(input(\"enter first val\"))\n",
    "    y=int(input(\"enter first val\"))\n",
    "    print(\"\\n\\nthe addtion is \",x+y)\n",
    "c=hello()\n",
    "print(\"the retun is \",c)"
   ]
  },
  {
   "cell_type": "code",
   "execution_count": null,
   "metadata": {
    "collapsed": true
   },
   "outputs": [],
   "source": [
    "s = input()\n",
    "l = list(s)\n",
    "i = input()\n",
    "l = s"
   ]
  }
 ],
 "metadata": {
  "kernelspec": {
   "display_name": "Python 3",
   "language": "python",
   "name": "python3"
  },
  "language_info": {
   "codemirror_mode": {
    "name": "ipython",
    "version": 3
   },
   "file_extension": ".py",
   "mimetype": "text/x-python",
   "name": "python",
   "nbconvert_exporter": "python",
   "pygments_lexer": "ipython3",
   "version": "3.6.3"
  }
 },
 "nbformat": 4,
 "nbformat_minor": 2
}
