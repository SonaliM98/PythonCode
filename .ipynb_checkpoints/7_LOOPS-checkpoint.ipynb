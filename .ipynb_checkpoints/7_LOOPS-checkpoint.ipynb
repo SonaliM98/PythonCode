{
 "cells": [
  {
   "cell_type": "markdown",
   "metadata": {},
   "source": [
    "# LOOPS\n",
    "1. while\n",
    "2. for\n"
   ]
  },
  {
   "cell_type": "markdown",
   "metadata": {},
   "source": [
    "# WHILE LOOP"
   ]
  },
  {
   "cell_type": "code",
   "execution_count": 1,
   "metadata": {
    "collapsed": true
   },
   "outputs": [],
   "source": [
    "#9929438389\n",
    "while False : # this condition is false. Loop is not work.\n",
    "    print (\"helllo python\")"
   ]
  },
  {
   "cell_type": "code",
   "execution_count": 2,
   "metadata": {},
   "outputs": [
    {
     "name": "stdout",
     "output_type": "stream",
     "text": [
      "Hello World!\n",
      "Hello World!\n",
      "Hello World!\n",
      "Hello World!\n",
      "Hello World!\n",
      "Hello World!\n",
      "Hello World!\n",
      "Hello World!\n",
      "Hello World!\n",
      "Hello World!\n",
      "Python is Awesome\n"
     ]
    }
   ],
   "source": [
    "c = 1 # Loop start from 1\n",
    "while c <= 10 : # If C is smaller than 10 \n",
    "    print(\"Hello World!\") # print this\n",
    "    c = c + 1 # to incerment the loop\n",
    "print(\"Python is Awesome\") # After finish loop this will print "
   ]
  },
  {
   "cell_type": "code",
   "execution_count": 5,
   "metadata": {},
   "outputs": [
    {
     "name": "stdout",
     "output_type": "stream",
     "text": [
      "1, \t2, \t3, \t4, \t5, \t6, \t7, \t8, \t9, \t10, \t11, \t12, \t13, \t14, \t15, \t16, \t17, \t18, \t19, \t20, \t21, \t22, \t23, \t24, \t25, \t26, \t27, \t28, \t29, \t30, \t31, \t32, \t33, \t34, \t35, \t36, \t37, \t38, \t39, \t40, \t41, \t42, \t43, \t44, \t45, \t46, \t47, \t48, \t49, \t50, \t51, \t52, \t53, \t54, \t55, \t56, \t57, \t58, \t59, \t60, \t61, \t62, \t63, \t64, \t65, \t66, \t67, \t68, \t69, \t70, \t71, \t72, \t73, \t74, \t75, \t76, \t77, \t78, \t79, \t80, \t81, \t82, \t83, \t84, \t85, \t86, \t87, \t88, \t89, \t90, \t91, \t92, \t93, \t94, \t95, \t96, \t97, \t98, \t99, \t100, \t"
     ]
    }
   ],
   "source": [
    "c = 1 \n",
    "while c <= 100 :\n",
    "    print (c,end=', \\t') # to see our output in ',' or using a tab in between '\\t'\n",
    "    c = c + 1"
   ]
  },
  {
   "cell_type": "code",
   "execution_count": 7,
   "metadata": {},
   "outputs": [
    {
     "name": "stdout",
     "output_type": "stream",
     "text": [
      "Enter the number: 12\n",
      "   12\tX    1\t=   12\n",
      "   12\tX    2\t=   24\n",
      "   12\tX    3\t=   36\n",
      "   12\tX    4\t=   48\n",
      "   12\tX    5\t=   60\n",
      "   12\tX    6\t=   72\n",
      "   12\tX    7\t=   84\n",
      "   12\tX    8\t=   96\n",
      "   12\tX    9\t=  108\n",
      "   12\tX   10\t=  120\n",
      "Enter a Number : 34354654\n",
      "34354654\n",
      "68709308\n",
      "103063962\n",
      "137418616\n",
      "171773270\n",
      "206127924\n",
      "240482578\n",
      "274837232\n",
      "309191886\n",
      "343546540\n"
     ]
    }
   ],
   "source": [
    "# Print a Table... Input from user\n",
    "I = int(input(\"Enter the number: \"))\n",
    "t = 1 \n",
    "while t <= 10 :\n",
    "    print(\"{:5}\\tX{:5}\\t={:5}\".format(I,t,I*t)) #':5' mean space given after the '=' and 'X'\n",
    "    t = t + 1\n",
    "    \n",
    "# Partten 2\n",
    "\n",
    "s = 0\n",
    "num = int(input(\"Enter a Number : \"))\n",
    "c = 1 \n",
    "while c <= 10 :\n",
    "    s = s + num\n",
    "    print(s)\n",
    "    c = c + 1"
   ]
  },
  {
   "cell_type": "code",
   "execution_count": 1,
   "metadata": {},
   "outputs": [
    {
     "name": "stdout",
     "output_type": "stream",
     "text": [
      "Enter total number : 12\n",
      "Enter number 1: 23\n",
      "Enter number 2: 45\n",
      "Enter number 3: 67\n",
      "Enter number 4: 89\n",
      "Enter number 5: 00\n",
      "Enter number 6: 5435\n",
      "Enter number 7: 7\n",
      "Enter number 8: 5673\n",
      "Enter number 9: 634\n",
      "Enter number 10: 32\n",
      "Enter number 11: 35\n",
      "Enter number 12: 53\n",
      "[23, 45, 67, 89, 0, 5435, 7, 5673, 634, 32, 35, 53]\n"
     ]
    }
   ],
   "source": [
    "# Create List using ... User input...\n",
    "l = []\n",
    "c = 1\n",
    "num = int(input(\"Enter total number : \"))\n",
    "while c <= num :\n",
    "    x = int(input(\"Enter number {}: \".format(c)))\n",
    "    l.append(x)\n",
    "    c = c + 1\n",
    "print(l)"
   ]
  },
  {
   "cell_type": "markdown",
   "metadata": {
    "collapsed": true
   },
   "source": [
    "# FOR LOOP\n",
    "For loop is run in a sequence...\n"
   ]
  },
  {
   "cell_type": "code",
   "execution_count": 1,
   "metadata": {},
   "outputs": [
    {
     "name": "stdout",
     "output_type": "stream",
     "text": [
      "p\n",
      "y\n",
      "t\n",
      "h\n",
      "o\n",
      "n\n"
     ]
    }
   ],
   "source": [
    "for v in 'python':\n",
    "    print(v)"
   ]
  },
  {
   "cell_type": "code",
   "execution_count": 6,
   "metadata": {},
   "outputs": [
    {
     "name": "stdout",
     "output_type": "stream",
     "text": [
      "1\n",
      "2\n",
      "3\n",
      "4\n",
      "5\n",
      "6\n",
      "7\n",
      "8\n",
      "9\n",
      "10\n"
     ]
    }
   ],
   "source": [
    "#Print 1 to 10 using for loop\n",
    "for v in [ 1,2,3,4,5,6,7,8,9,10 ]:\n",
    "    print(v)"
   ]
  },
  {
   "cell_type": "code",
   "execution_count": 12,
   "metadata": {},
   "outputs": [
    {
     "name": "stdout",
     "output_type": "stream",
     "text": [
      "Enter number: 5\n",
      "5\n",
      "10\n",
      "15\n",
      "20\n",
      "25\n",
      "30\n",
      "35\n",
      "40\n",
      "45\n",
      "50\n"
     ]
    }
   ],
   "source": [
    "# Print a table...\n",
    "m = int(input(\"Enter number: \"))\n",
    "n = [ 1,2,3,4,5,6,7,8,9,10 ]\n",
    "for v in n:\n",
    "    print(m*v)"
   ]
  },
  {
   "cell_type": "code",
   "execution_count": 14,
   "metadata": {},
   "outputs": [
    {
     "name": "stdout",
     "output_type": "stream",
     "text": [
      "100 99 98 97 96 95 94 93 92 91 90 89 88 87 86 85 84 83 82 81 80 79 78 77 76 75 74 73 72 71 70 69 68 67 66 65 64 63 62 61 60 59 58 57 56 55 54 53 52 51 50 49 48 47 46 45 44 43 42 41 40 39 38 37 36 35 34 33 32 31 30 29 28 27 26 25 24 23 22 21 20 19 18 17 16 15 14 13 12 11 10 9 8 7 6 5 4 3 2 1\n"
     ]
    }
   ],
   "source": [
    "#print 100 to 1\n",
    "print(*range(100,0,-1))\n"
   ]
  },
  {
   "cell_type": "code",
   "execution_count": 13,
   "metadata": {},
   "outputs": [
    {
     "name": "stdout",
     "output_type": "stream",
     "text": [
      "<class 'range'>\n",
      "range(1, 100, 5)\n",
      "1 6 11 16 21 26 31 36 41 46 51 56 61 66 71 76 81 86 91 96\n"
     ]
    }
   ],
   "source": [
    "#jump 5 times...\n",
    "start = 1\n",
    "end = 100\n",
    "step = 5\n",
    "k = range(start,end,step) # range object...\n",
    "print(type(k))\n",
    "print(k)\n",
    "print(*k)"
   ]
  },
  {
   "cell_type": "code",
   "execution_count": 15,
   "metadata": {},
   "outputs": [
    {
     "name": "stdout",
     "output_type": "stream",
     "text": [
      "Enter Starting point : 2\n",
      "Enter Ending point : 10\n",
      "Enter num : 4\n",
      "2\t3\t5\t6\t7\t9\t10\t"
     ]
    }
   ],
   "source": [
    "#jump 5 times... start and end point \n",
    "s = int(input(\"Enter Starting point : \"))\n",
    "e = int(input(\"Enter Ending point : \"))\n",
    "num = int(input(\"Enter num : \"))\n",
    "for var in range(s,e+1):\n",
    "    if var % num :\n",
    "        print(var,end='\\t')\n"
   ]
  },
  {
   "cell_type": "code",
   "execution_count": 16,
   "metadata": {},
   "outputs": [
    {
     "name": "stdout",
     "output_type": "stream",
     "text": [
      "-100 -99 -98 -97 -96 -95 -94 -93 -92 -91 -90 -89 -88 -87 -86 -85 -84 -83 -82 -81 -80 -79 -78 -77 -76 -75 -74 -73 -72 -71 -70 -69 -68 -67 -66 -65 -64 -63 -62 -61 -60 -59 -58 -57 -56 -55 -54 -53 -52 -51 -50 -49 -48 -47 -46 -45 -44 -43 -42 -41 -40 -39 -38 -37 -36 -35 -34 -33 -32 -31 -30 -29 -28 -27 -26 -25 -24 -23 -22 -21 -20 -19 -18 -17 -16 -15 -14 -13 -12 -11 -10 -9 -8 -7 -6 -5 -4 -3 -2 -1 "
     ]
    }
   ],
   "source": [
    "for var in range(-100,0):\n",
    "    print(var,end=' ')"
   ]
  },
  {
   "cell_type": "code",
   "execution_count": 2,
   "metadata": {},
   "outputs": [
    {
     "name": "stdout",
     "output_type": "stream",
     "text": [
      "8 16 24 32 40 48 56 64 72 80 88 96 "
     ]
    }
   ],
   "source": [
    "# Multiple of 5\n",
    "for var in range(1,101,1):\n",
    "    if var % 8 == 0 :\n",
    "        print(var,end=' ')"
   ]
  },
  {
   "cell_type": "code",
   "execution_count": 12,
   "metadata": {},
   "outputs": [
    {
     "name": "stdout",
     "output_type": "stream",
     "text": [
      "5\n",
      "0\n",
      "1\n",
      "4\n",
      "9\n",
      "16\n"
     ]
    }
   ],
   "source": [
    "# HackerRank Task \n",
    "#Read an integer N. For all non-negative integers i<N, print i**i . See the sample for details.\n",
    "\n",
    "num = int(input())\n",
    "for var in range(num):\n",
    "    print (var**2)"
   ]
  },
  {
   "cell_type": "code",
   "execution_count": 3,
   "metadata": {},
   "outputs": [
    {
     "name": "stdout",
     "output_type": "stream",
     "text": [
      "\n",
      "\n",
      "* \n",
      "\n",
      "* * \n",
      "\n",
      "* * * \n",
      "\n",
      "* * * * \n",
      "\n",
      "* * * * * "
     ]
    }
   ],
   "source": [
    "for i in range(5):\n",
    "    print(\"\\n\")\n",
    "    for i in range(i+1):\n",
    "        print(\"* \",end=\"\")"
   ]
  },
  {
   "cell_type": "code",
   "execution_count": 12,
   "metadata": {},
   "outputs": [
    {
     "name": "stdout",
     "output_type": "stream",
     "text": [
      "\n",
      "\n"
     ]
    },
    {
     "ename": "TypeError",
     "evalue": "'str' object is not callable",
     "output_type": "error",
     "traceback": [
      "\u001b[1;31m---------------------------------------------------------------------------\u001b[0m",
      "\u001b[1;31mTypeError\u001b[0m                                 Traceback (most recent call last)",
      "\u001b[1;32m<ipython-input-12-0870af78ca9c>\u001b[0m in \u001b[0;36m<module>\u001b[1;34m()\u001b[0m\n\u001b[0;32m      2\u001b[0m     \u001b[0mprint\u001b[0m\u001b[1;33m(\u001b[0m\u001b[1;34m\"\\n\"\u001b[0m\u001b[1;33m)\u001b[0m\u001b[1;33m\u001b[0m\u001b[0m\n\u001b[0;32m      3\u001b[0m     \u001b[1;32mfor\u001b[0m \u001b[0mi\u001b[0m \u001b[1;32min\u001b[0m \u001b[0mrange\u001b[0m\u001b[1;33m(\u001b[0m\u001b[0mi\u001b[0m\u001b[1;33m+\u001b[0m\u001b[1;36m1\u001b[0m\u001b[1;33m)\u001b[0m\u001b[1;33m:\u001b[0m\u001b[1;33m\u001b[0m\u001b[0m\n\u001b[1;32m----> 4\u001b[1;33m         \u001b[0mprint\u001b[0m\u001b[1;33m(\u001b[0m\u001b[1;34m\" \"\u001b[0m\u001b[1;33m*\u001b[0m\u001b[1;33m(\u001b[0m\u001b[1;36m5\u001b[0m\u001b[1;33m-\u001b[0m\u001b[0mi\u001b[0m\u001b[1;33m)\u001b[0m\u001b[1;33m,\u001b[0m\u001b[0mend\u001b[0m\u001b[1;33m=\u001b[0m\u001b[1;34m\"*\"\u001b[0m\u001b[1;33m(\u001b[0m\u001b[0mi\u001b[0m \u001b[1;33m+\u001b[0m \u001b[1;36m1\u001b[0m\u001b[1;33m)\u001b[0m\u001b[1;33m)\u001b[0m\u001b[1;33m\u001b[0m\u001b[0m\n\u001b[0m",
      "\u001b[1;31mTypeError\u001b[0m: 'str' object is not callable"
     ]
    }
   ],
   "source": [
    "for i in range(5):\n",
    "    print(\"\\n\")\n",
    "    for i in range(i+1):\n",
    "        print(\" \"*(5-i),end=\"*\"(i + 1))"
   ]
  },
  {
   "cell_type": "code",
   "execution_count": 26,
   "metadata": {},
   "outputs": [
    {
     "name": "stdout",
     "output_type": "stream",
     "text": [
      "        * \n",
      "      * * * \n",
      "    * * * * * \n",
      "  * * * * * * * \n",
      "* * * * * * * * * \n"
     ]
    }
   ],
   "source": [
    "k = 0\n",
    "rows = 5\n",
    "for i in range(1, rows+1):\n",
    "    for space in range(1, (rows-i)+1):\n",
    "        print(end=\"  \")\n",
    "    while k != (2*i-1):\n",
    "        print(\"* \", end=\"\")\n",
    "        k = k + 1\n",
    "    k = 0\n",
    "    print()"
   ]
  },
  {
   "cell_type": "code",
   "execution_count": 21,
   "metadata": {},
   "outputs": [
    {
     "name": "stdout",
     "output_type": "stream",
     "text": [
      "*           * * * * * * *\n",
      "*           *\n",
      "*           *\n",
      "*           *\n",
      "*           *\n",
      "*           *\n",
      "* * * * * * * * * * * * * \n",
      "            *           * \n",
      "            *           * \n",
      "            *           * \n",
      "            *           * \n",
      "            *           * \n",
      "* * * * * * *           * \n"
     ]
    }
   ],
   "source": [
    "def swastika(row,col):\n",
    "    for i in range(row):\n",
    "        for j in range(col): \n",
    "            if(i < row // 2): \n",
    "                if (j < col // 2): \n",
    "                    if (j == 0):\n",
    "                        print(\"*\", end = \"\")\n",
    "                    else:\n",
    "                        print(\" \", end = \" \")\n",
    "                elif (j == col // 2):\n",
    "                    print(\" *\", end = \"\")\n",
    "                else:\n",
    "                    if (i == 0):\n",
    "                        print(\" *\", end = \"\")\n",
    "            elif (i == row // 2):\n",
    "                print(\"* \", end = \"\")\n",
    "            else: \n",
    "                if (j == col // 2 or j == col - 1):\n",
    "                    print(\"* \", end = \"\")\n",
    "                elif (i == row - 1): \n",
    "                    if (j <= col // 2 or j == col - 1):\n",
    "                        print(\"* \", end = \"\")\n",
    "                    else:\n",
    "                        print(\" \", end = \" \")\n",
    "                else:\n",
    "                    print(\" \", end = \" \")\n",
    "        print()\n",
    "row = 13; col = 13\n",
    "swastika(row, col)"
   ]
  },
  {
   "cell_type": "code",
   "execution_count": null,
   "metadata": {
    "collapsed": true
   },
   "outputs": [],
   "source": []
  }
 ],
 "metadata": {
  "kernelspec": {
   "display_name": "Python 3",
   "language": "python",
   "name": "python3"
  },
  "language_info": {
   "codemirror_mode": {
    "name": "ipython",
    "version": 3
   },
   "file_extension": ".py",
   "mimetype": "text/x-python",
   "name": "python",
   "nbconvert_exporter": "python",
   "pygments_lexer": "ipython3",
   "version": "3.6.3"
  }
 },
 "nbformat": 4,
 "nbformat_minor": 2
}
