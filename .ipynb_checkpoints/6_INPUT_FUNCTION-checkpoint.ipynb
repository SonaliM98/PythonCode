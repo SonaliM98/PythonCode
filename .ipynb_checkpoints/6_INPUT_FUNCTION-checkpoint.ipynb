{
 "cells": [
  {
   "cell_type": "markdown",
   "metadata": {},
   "source": [
    "# Import Function\n",
    "1. from getpass import getpass\n",
    "2. from random import choice\n",
    "3. from random import randrange\n",
    "4. import math"
   ]
  },
  {
   "cell_type": "code",
   "execution_count": 1,
   "metadata": {},
   "outputs": [
    {
     "name": "stdout",
     "output_type": "stream",
     "text": [
      "Player1: ········\n",
      "Player2: ········\n",
      "Player2 is the Winner\n",
      "Do want to continue (y/n) : n\n"
     ]
    }
   ],
   "source": [
    "#ROCK PAPER SCISSOR...\n",
    "#Play by 2 Players\n",
    "p1 = [ ('r','s'),('p','r'),('s','p')]\n",
    "from getpass import getpass # secreat input... from user...\n",
    "while True :\n",
    "    ch1 = getpass(\"Player1: \")\n",
    "    ch2 = getpass(\"Player2: \")\n",
    "    if ch1 == ch2 : \n",
    "        print(\"Match Tie\")\n",
    "    elif (ch1,ch2) in p1 :\n",
    "        print(\"Player1 is the Winner\")\n",
    "    else :\n",
    "        print(\"Player2 is the Winner\")\n",
    "    \n",
    "    ch = input(\"Do want to continue (y/n) : \").strip().lower()\n",
    "    if ch == 'y' or ch == 'yes' :\n",
    "        continue # if user press 'yes' then while is Start again\n",
    "    else :\n",
    "        break # if user press 'no' then while is stop"
   ]
  },
  {
   "cell_type": "code",
   "execution_count": null,
   "metadata": {
    "collapsed": true
   },
   "outputs": [],
   "source": [
    "#Play With Computer...\n",
    "p1 = [ ('r','s'),('p','r'),('s','p')]\n",
    "from random import choice #For computer to take a random choice...\n",
    "while True :\n",
    "    ch1 = choice(['r','p','s'])\n",
    "    ch2 = input(\"Your Choice: ['r','p','s']: \")\n",
    "    if ch1 == ch2 : \n",
    "        print(\"Match Tie\")\n",
    "    elif (ch1,ch2) in p1 :\n",
    "        print(\"Computer Choice was : \",ch1)\n",
    "        print(\"Your Choice was : \",ch2)\n",
    "        print(\"Computer is the Winner\")\n",
    "    else :\n",
    "        print(\"Computer Choice was : \",ch1)\n",
    "        print(\"Your Choice was : \",ch2)\n",
    "        print(\"You Win\")\n",
    "    \n",
    "    ch = input(\"Do want to continue (y/n) : \").strip().lower()\n",
    "    if ch == 'y' or ch == 'yes' :\n",
    "        continue\n",
    "    else :\n",
    "        break"
   ]
  },
  {
   "cell_type": "code",
   "execution_count": null,
   "metadata": {
    "collapsed": true
   },
   "outputs": [],
   "source": [
    "#GUESSSSSS GAMEEEE....\n",
    "#Take Input In A Fix Range...\n",
    "from random import randrange\n",
    "while True :\n",
    "    c = 1\n",
    "    com_guess = randrange(1,50)\n",
    "    while c <= 5 :\n",
    "        user_guess = int(input(\"Your Guess(1,50) : \"))\n",
    "        if user_guess > 50 or user_guess < 1 :\n",
    "            print(\"You Idiot only 1-50 \")\n",
    "            continue\n",
    "        else : \n",
    "            if user_guess < com_guess :\n",
    "                print(\"Think Bigger\")\n",
    "            elif user_guess > com_guess :\n",
    "                print(\"Think Lower\")\n",
    "            else :\n",
    "                print(\"Computer Guess : \",com_guess)\n",
    "                print(\"You have won the Game : \")\n",
    "                break\n",
    "        if c == 5 :\n",
    "            print(\"Computer Guess : \",com_guess)\n",
    "            print(\"You such a looser\")\n",
    "        c = c + 1\n",
    "    \n",
    "    ch = input(\"Do want to play again (y/n) : \").strip().lower()\n",
    "    if ch == 'y' or ch == 'yes' :\n",
    "        continue\n",
    "    else :\n",
    "        break"
   ]
  },
  {
   "cell_type": "code",
   "execution_count": 2,
   "metadata": {},
   "outputs": [
    {
     "name": "stdout",
     "output_type": "stream",
     "text": [
      "Do want to roll again : y\n",
      "Rolling Number is :  1\n",
      "Do want to roll again : \n"
     ]
    }
   ],
   "source": [
    "#ROLINGGG DICEEE....\n",
    "from random import randrange\n",
    "while input(\"Do want to roll again : \"): #we can input in loop also in python...\n",
    "    print(\"Rolling Number is : \",randrange(1,7))"
   ]
  },
  {
   "cell_type": "code",
   "execution_count": 5,
   "metadata": {},
   "outputs": [
    {
     "name": "stdout",
     "output_type": "stream",
     "text": [
      "x x x\n",
      "x x x\n",
      "x x x\n",
      "Player 1 \n",
      "x : 1\n",
      "y : 1\n",
      "x : 2\n",
      "y : 2\n",
      "x x x\n",
      "x 0 x\n",
      "x x 1\n"
     ]
    }
   ],
   "source": [
    "#CROSS AND ZEROO (TIE TAC TOE)\n",
    "l = [\n",
    "    [ 'x', 'x', 'x' ],\n",
    "    [ 'x', 'x', 'x' ],\n",
    "    [ 'x', 'x', 'x' ],\n",
    "]\n",
    "for var in l :\n",
    "    print(*var)\n",
    "print(\"Player 1 \")\n",
    "x1 = int(input(\"x : \"))\n",
    "y1 = int(input(\"y : \"))\n",
    "l[x1][y1] = '0'\n",
    "x2 = int(input(\"x : \"))\n",
    "y2 = int(input(\"y : \"))\n",
    "l[x2][y2] = '1'\n",
    "for var in l :\n",
    "    print(*var)"
   ]
  },
  {
   "cell_type": "code",
   "execution_count": null,
   "metadata": {
    "collapsed": true
   },
   "outputs": [],
   "source": []
  }
 ],
 "metadata": {
  "kernelspec": {
   "display_name": "Python 3",
   "language": "python",
   "name": "python3"
  },
  "language_info": {
   "codemirror_mode": {
    "name": "ipython",
    "version": 3
   },
   "file_extension": ".py",
   "mimetype": "text/x-python",
   "name": "python",
   "nbconvert_exporter": "python",
   "pygments_lexer": "ipython3",
   "version": "3.6.3"
  }
 },
 "nbformat": 4,
 "nbformat_minor": 2
}
