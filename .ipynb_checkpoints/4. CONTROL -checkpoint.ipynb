{
 "cells": [
  {
   "cell_type": "markdown",
   "metadata": {},
   "source": [
    "# CONTROL STATEMENTS \n",
    "1. if\n",
    "2. if-else\n",
    "3. if-elif-else"
   ]
  },
  {
   "cell_type": "markdown",
   "metadata": {},
   "source": [
    "SYNTAX\n",
    "\n",
    "if condition : #(: is defined as indentation operator used define block of code)\n",
    "\n",
    "    statement1\n",
    "    \n",
    "    statement2\n",
    "    \n",
    "        #.\n",
    "        \n",
    "        #.\n",
    "        \n",
    "        #.\n",
    "    \n",
    "    statementn\n",
    "    \n",
    "else :\n",
    "    \n",
    "    statement1\n",
    "    \n",
    "    statement2\n",
    "    \n",
    "        #.\n",
    "        \n",
    "        #.\n",
    "        \n",
    "        #.\n",
    "    \n",
    "    statementn"
   ]
  },
  {
   "cell_type": "code",
   "execution_count": 2,
   "metadata": {},
   "outputs": [
    {
     "name": "stdout",
     "output_type": "stream",
     "text": [
      "Enter the number: 3\n",
      "Number is Odd\n"
     ]
    }
   ],
   "source": [
    "# WEITE A PROGRAM TO FIND EVEN AND ODD NUMBER.\n",
    "x = int(input(\"Enter the number: \"))\n",
    "if x % 2 == 0 :\n",
    "    print (\"Number is Even\")\n",
    "else :\n",
    "    print (\"Number is Odd\")"
   ]
  },
  {
   "cell_type": "code",
   "execution_count": 4,
   "metadata": {},
   "outputs": [
    {
     "name": "stdout",
     "output_type": "stream",
     "text": [
      "A : 7\n",
      "B : 6\n",
      "C : 3\n",
      "A is greatest \n",
      "A : 5\n",
      "B : 9\n",
      "C : 5\n",
      "B is Greatest\n"
     ]
    }
   ],
   "source": [
    "#Greatest among Three numbers \n",
    "a = int(input(\"A : \"))\n",
    "b = int(input(\"B : \"))\n",
    "c = int(input(\"C : \"))\n",
    "\n",
    "if a >= b :\n",
    "    if a >= c :\n",
    "        print(\"A is greatest \")\n",
    "    else :\n",
    "        print(\"C is greatest \")\n",
    "elif b >= c :\n",
    "    print(\"B is Greatest\")\n",
    "\n",
    "else :\n",
    "    print(\"C is Greatest \")\n",
    "    \n",
    "### OR ### Partten 2 \n",
    "\n",
    "a = int(input(\"A : \"))\n",
    "b = int(input(\"B : \"))\n",
    "c = int(input(\"C : \"))\n",
    "if a >= b and a >= c :\n",
    "    print(\"A is Greatest\")\n",
    "elif b >= a and b >= c :\n",
    "    print(\"B is Greatest\")\n",
    "else :\n",
    "    print(\"C is Greatest\")"
   ]
  },
  {
   "cell_type": "code",
   "execution_count": 2,
   "metadata": {},
   "outputs": [
    {
     "name": "stdout",
     "output_type": "stream",
     "text": [
      "20\n",
      "Not Weird\n",
      "Not Weird\n",
      "Not Weird\n",
      "Not Weird\n",
      "Not Weird\n",
      "Not Weird\n",
      "Not Weird\n",
      "Not Weird\n",
      "Not Weird\n",
      "Not Weird\n",
      "Not Weird\n",
      "Not Weird\n",
      "Not Weird\n",
      "Not Weird\n",
      "Not Weird\n"
     ]
    }
   ],
   "source": [
    "# HackerRank Task...\n",
    "#Given an integer, n , perform the following conditional actions:\n",
    "\n",
    "#If n is odd, print Weird\n",
    "#If n is even and in the inclusive range of 2 to 5, print Not Weird\n",
    "#If n is even and in the inclusive range of 6 to 20, print Weird\n",
    "#If n is even and greater than 20, print Not Weird\n",
    "\n",
    "a = int(input())\n",
    "if a <=5 :\n",
    "    for v in range(2,6):\n",
    "        if a % 2 == 0:\n",
    "            print(\"Not Weird\")\n",
    "        else: \n",
    "            print(\"Wired\")\n",
    "else:\n",
    "    \n",
    "    for v in range(6,21):\n",
    "        if a % 2 == 0:\n",
    "            print(\"Not Weird\")\n",
    "        else: \n",
    "            print(\"Wired\")\n",
    "\n",
    "    "
   ]
  },
  {
   "cell_type": "code",
   "execution_count": null,
   "metadata": {
    "collapsed": true
   },
   "outputs": [],
   "source": []
  }
 ],
 "metadata": {
  "kernelspec": {
   "display_name": "Python 3",
   "language": "python",
   "name": "python3"
  },
  "language_info": {
   "codemirror_mode": {
    "name": "ipython",
    "version": 3
   },
   "file_extension": ".py",
   "mimetype": "text/x-python",
   "name": "python",
   "nbconvert_exporter": "python",
   "pygments_lexer": "ipython3",
   "version": "3.6.3"
  }
 },
 "nbformat": 4,
 "nbformat_minor": 2
}
