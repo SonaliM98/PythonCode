{
 "cells": [
  {
   "cell_type": "markdown",
   "metadata": {},
   "source": [
    "* 31 May 2018\n",
    "# 7 Types of Operator\n",
    "1. Airthmatic Operators\n",
    "2. Comparision Operators\n",
    "3. Logical Operators\n",
    "4. Assignment Operators\n",
    "5. Binary Operators\n",
    "6. Identity Operators\n",
    "7. Membership Operators"
   ]
  },
  {
   "cell_type": "markdown",
   "metadata": {},
   "source": [
    "# Airthmatic Operators\n",
    "1. Addition Operator ( + )\n",
    "2. Substraction Operator ( - )\n",
    "3. Multiplication Operator ( * )\n",
    "4. Division Operator ( / )\n",
    "5. Modulas Operator ( % )\n",
    "6. Floor Division ( // )\n",
    "7. Exponent Operator ( ** )"
   ]
  },
  {
   "cell_type": "code",
   "execution_count": 2,
   "metadata": {},
   "outputs": [
    {
     "name": "stdout",
     "output_type": "stream",
     "text": [
      "Addition of 10 and 3 is 13.\n",
      "hello world\n",
      "[4, 5, 6, 1, 2, 3]\n",
      "('one', 'two', 'three', 'four', 'five', 'six')\n"
     ]
    },
    {
     "data": {
      "text/plain": [
       "' Sets can not be processed by Airthmatic Operators\\ns1 = { 1,2,3 }\\ns2 = { 4,5,6 }\\nprint(s1+s2)\\n'"
      ]
     },
     "execution_count": 2,
     "metadata": {},
     "output_type": "execute_result"
    }
   ],
   "source": [
    "#Addition Operator \n",
    "#Number\n",
    "x = 10\n",
    "y = 3\n",
    "z = x + y\n",
    "print(\"Addition of {} and {} is {}.\".format(x,y,z))\n",
    "\n",
    "# String\n",
    "x = 'hello '\n",
    "y = 'world'\n",
    "print(x+y)\n",
    "\n",
    "#List \n",
    "l1 = [ 1,2,3]\n",
    "l2 = [ 4,5,6]\n",
    "print(l2 + l1)\n",
    "\n",
    "#Tuple\n",
    "t1 = ('one','two','three')\n",
    "t2 = ('four','five','six')\n",
    "print(t1+t2)\n",
    "\n",
    "#Dictionary \n",
    "''' Dictionary can not be processed by Airthmatic Operators\n",
    "d = { 1:'one',2:'two'}\n",
    "d1 = { 3:'three',4:'four'}\n",
    "print(d+d1)\n",
    "'''\n",
    "#Sets\n",
    "\"\"\" Sets can not be processed by Airthmatic Operators\n",
    "s1 = { 1,2,3 }\n",
    "s2 = { 4,5,6 }\n",
    "print(s1+s2)\n",
    "\"\"\""
   ]
  },
  {
   "cell_type": "code",
   "execution_count": 3,
   "metadata": {},
   "outputs": [
    {
     "name": "stdout",
     "output_type": "stream",
     "text": [
      "-40\n"
     ]
    }
   ],
   "source": [
    "#Substraction Operator - Perform in only numbers.\n",
    "x = 10\n",
    "y = 50\n",
    "print(x-y)\n"
   ]
  },
  {
   "cell_type": "code",
   "execution_count": 4,
   "metadata": {},
   "outputs": [
    {
     "name": "stdout",
     "output_type": "stream",
     "text": [
      "1060\n",
      "Hello_World Hello_World Hello_World Hello_World Hello_World \n",
      " Hi  Hi  Hi \n",
      "[1, 2, 3, 1, 2, 3, 1, 2, 3]\n"
     ]
    }
   ],
   "source": [
    "#Multiplication Operator\n",
    "# Number\n",
    "x = 53\n",
    "y = 20 \n",
    "print(x*y)\n",
    "# String\n",
    "s = 'Hello_World '\n",
    "k = ' Hi '\n",
    "#print(s*k)\n",
    "print(5*s)\n",
    "print(k*3)\n",
    "# List\n",
    "l1 =[1,2,3]\n",
    "#l2 = [ 4,5,6]\n",
    "#print(l1*l2)\n",
    "print(l1*3)"
   ]
  },
  {
   "cell_type": "code",
   "execution_count": 5,
   "metadata": {},
   "outputs": [
    {
     "name": "stdout",
     "output_type": "stream",
     "text": [
      "4.416666666666667\n",
      "5\n",
      "4\n"
     ]
    }
   ],
   "source": [
    "#Division Operator\n",
    "x = 53\n",
    "y = 12\n",
    "print(x/y) #Absolute Division\n",
    "print(x%y) #Remainder\n",
    "print(x//y) #Quitont"
   ]
  },
  {
   "cell_type": "code",
   "execution_count": 6,
   "metadata": {},
   "outputs": [
    {
     "name": "stdout",
     "output_type": "stream",
     "text": [
      "125\n"
     ]
    }
   ],
   "source": [
    "#Exponent - Power 5 ki power 3 \n",
    "x = 5\n",
    "y = 3\n",
    "print(x**y)"
   ]
  },
  {
   "cell_type": "markdown",
   "metadata": {},
   "source": [
    "#  Comparision Operators\n",
    "1. Less Than ( < )\n",
    "2. Less Than Equals To ( <= )\n",
    "3. Greater Than ( > )\n",
    "4. Greater Than Equals To ( >= )\n",
    "5. Equals To Equals To ( == )\n",
    "6. Not Equals To ( != )"
   ]
  },
  {
   "cell_type": "code",
   "execution_count": 7,
   "metadata": {},
   "outputs": [
    {
     "name": "stdout",
     "output_type": "stream",
     "text": [
      "6 < 8  True\n",
      "8 < 6  False\n",
      "6 <= 6  True\n",
      "6 <= 3  False\n",
      "5 > 6  False\n",
      "6 > 5  True\n",
      "6 >= 6  True\n",
      "6 >= 5  True\n",
      "6 == 6  True\n",
      "6 == 7  False\n",
      "6 != 6  False\n",
      "6 != 7  True\n"
     ]
    }
   ],
   "source": [
    "print(\"6 < 8 \", 6 < 8) #Less than\n",
    "print(\"8 < 6 \", 8 < 6) #Less Than\n",
    "print(\"6 <= 6 \", 6 <= 6) #Less Than Equals To\n",
    "print(\"6 <= 3 \", 6 <= 3) #Less Than Equals To\n",
    "print(\"5 > 6 \", 5 > 6) #Greater Than\n",
    "print(\"6 > 5 \", 6 > 5 ) #Greater Than\n",
    "print(\"6 >= 6 \", 6 >= 6) #Greater Than Equals To\n",
    "print(\"6 >= 5 \", 6 >= 5) #Greater Than Equals To\n",
    "print(\"6 == 6 \", 6 == 6) #Equals To Equals To\n",
    "print(\"6 == 7 \",6 == 7) #Equals To Equals To\n",
    "print(\"6 != 6 \", 6 != 6) #Not Equals To \n",
    "print(\"6 != 7 \", 6 != 7) #Not Equals To"
   ]
  },
  {
   "cell_type": "markdown",
   "metadata": {},
   "source": [
    "# Logical Operators\n",
    "1. and\n",
    "2. or\n",
    "3. not"
   ]
  },
  {
   "cell_type": "code",
   "execution_count": 8,
   "metadata": {},
   "outputs": [
    {
     "name": "stdout",
     "output_type": "stream",
     "text": [
      "X\tY\tand\tor\n",
      "True\tTrue\tTrue\tTrue\n",
      "True\tFalse\tFalse\tTrue\n",
      "False\tTrue\tFalse\tTrue\n",
      "False\tFalse\tFalse\tFalse\n"
     ]
    }
   ],
   "source": [
    "# Truth Table of and & or\n",
    "t = True\n",
    "f = False \n",
    "print(\"X\\tY\\tand\\tor\")\n",
    "print(\"{}\\t{}\\t{}\\t{}\".format(t, t, t and t, t or t))\n",
    "print(\"{}\\t{}\\t{}\\t{}\".format(t, f, t and f, t or f))\n",
    "print(\"{}\\t{}\\t{}\\t{}\".format(f, t, f and t, f or t))\n",
    "print(\"{}\\t{}\\t{}\\t{}\".format(f, f, f and f, f or f))"
   ]
  },
  {
   "cell_type": "code",
   "execution_count": 9,
   "metadata": {},
   "outputs": [
    {
     "name": "stdout",
     "output_type": "stream",
     "text": [
      "X\tnot\n",
      "True\tFalse\n",
      "False\tTrue\n"
     ]
    }
   ],
   "source": [
    "# Truth Table of not\n",
    "print(\"X\\tnot\")\n",
    "print(\"{}\\t{}\".format(True,not True))\n",
    "print(\"{}\\t{}\".format(False,not False))"
   ]
  },
  {
   "cell_type": "code",
   "execution_count": 10,
   "metadata": {},
   "outputs": [
    {
     "name": "stdout",
     "output_type": "stream",
     "text": [
      "0\n",
      "False\n",
      "False\n"
     ]
    }
   ],
   "source": [
    "#Example\n",
    "print( 6-4*3+6 and 6 < 5 )\n",
    "print( 6-4*3+6 or 6 < 5)\n",
    "print( not True )"
   ]
  },
  {
   "cell_type": "markdown",
   "metadata": {},
   "source": [
    "# Assignment Operators"
   ]
  },
  {
   "cell_type": "code",
   "execution_count": 3,
   "metadata": {},
   "outputs": [
    {
     "name": "stdout",
     "output_type": "stream",
     "text": [
      "something\n",
      "14.0\n",
      "13\n",
      "8 7 hi hello how are you\n",
      "6 5\n",
      "10 -2 60\n"
     ]
    }
   ],
   "source": [
    "#Print String...\n",
    "x = 'something'\n",
    "print(x)\n",
    "\n",
    "# Operator Precedence...\n",
    "k = ( (6*5/2-5) and (6<4 or 3 > 6) ) or (10/2*3-1)\n",
    "print(k)\n",
    "\n",
    "# to add the numbers direct...\n",
    "x = 6+7\n",
    "print(x)\n",
    "\n",
    "#Print onlt x & y value...\n",
    "x,y = 8,7\n",
    "\n",
    "#Print L\n",
    "l = ['hi','hello','how are you']\n",
    "a,b,c = l\n",
    "print(x,y,a,b,c)\n",
    "\n",
    "# To swap the ints\n",
    "x = 5\n",
    "y = 6\n",
    "x,y=y,x\n",
    "print(x,y)\n",
    "\n",
    "#to find +,_,*\n",
    "a = 4\n",
    "b = 6\n",
    "c  = 10\n",
    "a,b,c=a+b,a-b,c*b\n",
    "print(a,b,c)"
   ]
  },
  {
   "cell_type": "markdown",
   "metadata": {
    "collapsed": true
   },
   "source": [
    "# IDENTITY OPERATOR\n",
    "It just compare to operatends that are equal or not equal.\n",
    "\n",
    "1. is\n",
    "2. is not"
   ]
  },
  {
   "cell_type": "code",
   "execution_count": 16,
   "metadata": {},
   "outputs": [
    {
     "name": "stdout",
     "output_type": "stream",
     "text": [
      "x is equal to y\n",
      "x is not equal to y\n"
     ]
    }
   ],
   "source": [
    "# is -  equal \n",
    "\n",
    "x = 2 \n",
    "y = 2\n",
    "if x is y :\n",
    "    print(\"x is equal to y\")\n",
    "else :\n",
    "    print (\"x is not equal to y\")\n",
    "    \n",
    "# is not - not equal.\n",
    "\n",
    "x = 22435 \n",
    "y = 25683\n",
    "if x is y :\n",
    "    print(\"x is equal to y\")\n",
    "else :\n",
    "    print (\"x is not equal to y\")"
   ]
  },
  {
   "cell_type": "markdown",
   "metadata": {},
   "source": [
    "# Membership Operator\n",
    "Membership operators are operators used to validate the membership of a value. It test for membership in a sequence, such as strings, lists, or tuples.\n",
    "1. in \n",
    "2. not in"
   ]
  },
  {
   "cell_type": "code",
   "execution_count": 26,
   "metadata": {},
   "outputs": [
    {
     "name": "stdout",
     "output_type": "stream",
     "text": [
      "Pattern Found \n",
      "Pattern Not Found \n",
      "Enter a number : 34\n",
      "No such number in our list\n"
     ]
    }
   ],
   "source": [
    "#in - The ‘in’ operator is used to check if a value exists in a sequence or not.\n",
    "s2 = \"Dog is an animal.\"\n",
    "s1 = \"Dog\"\n",
    "x = s1 in s2\n",
    "if x :\n",
    "    print(\"Pattern Found \")\n",
    "else :\n",
    "    print(\"Patten Not Found\")\n",
    "    \n",
    "#not in - The ‘not in’ operator is used to check if a value exists in a sequence or not.\n",
    "s2 = \"Dog is an animal.\"\n",
    "s1 = \"Dogsdgs\"\n",
    "x = s1 not in s2\n",
    "if x :\n",
    "    print(\"Pattern Not Found \")\n",
    "else :\n",
    "    print(\"Patten Found\")\n",
    "    \n",
    "# Check in a list...\n",
    "l = [ 1,2,6,324,23,4234,54,2342,3432]\n",
    "\n",
    "if int(input(\"Enter a number : \")) in l : \n",
    "    print(\"Number found in list\")\n",
    "else :\n",
    "    print(\"No such number in our list\")"
   ]
  },
  {
   "cell_type": "code",
   "execution_count": 1,
   "metadata": {},
   "outputs": [
    {
     "name": "stdout",
     "output_type": "stream",
     "text": [
      "A+ O+ B+ AB+ A- O- B- AB-\n",
      "Enter Blood Group Type : a-\n",
      "Your Blood Group Type is : A-\n",
      "Donate to are  A+ A- AB+ AB-\n"
     ]
    }
   ],
   "source": [
    "# Class Task ... SUCCESSFULLY DONE...\n",
    "Blood_Group = {\n",
    "    'A+' : ['A+','AB+'],\n",
    "    'O+' : ['O+','A+','B+','AB+'],\n",
    "    'B+' : ['B+','AB+'],\n",
    "    'AB+' : ['AB+'],\n",
    "    'A-' : ['A+','A-','AB+','AB-'],\n",
    "    'O-' : ['A+','O+','B+','AB+','A-','O-','B-','AB-'],\n",
    "    'B-' : ['B+','B-','AB+','AB-'],\n",
    "    'AB-' : ['AB+','AB-'],\n",
    "}\n",
    "print(*Blood_Group.keys()) \n",
    "key = input(\"Enter Blood Group Type : \").strip().upper() \n",
    "print(\"Your Blood Group Type is : {}\".format(key)) \n",
    "value = Blood_Group[key] \n",
    "print(\"Donate to are \",*value)"
   ]
  },
  {
   "cell_type": "code",
   "execution_count": 1,
   "metadata": {
    "collapsed": true
   },
   "outputs": [],
   "source": [
    "def mutate_string(string, position, character):\n",
    "    return"
   ]
  },
  {
   "cell_type": "code",
   "execution_count": null,
   "metadata": {
    "collapsed": true
   },
   "outputs": [],
   "source": [
    "s = input()\n",
    "s = list(s)\n",
    "s[2] = 'a'\n",
    "s = ''.join(s)"
   ]
  }
 ],
 "metadata": {
  "kernelspec": {
   "display_name": "Python 3",
   "language": "python",
   "name": "python3"
  },
  "language_info": {
   "codemirror_mode": {
    "name": "ipython",
    "version": 3
   },
   "file_extension": ".py",
   "mimetype": "text/x-python",
   "name": "python",
   "nbconvert_exporter": "python",
   "pygments_lexer": "ipython3",
   "version": "3.6.3"
  }
 },
 "nbformat": 4,
 "nbformat_minor": 2
}
